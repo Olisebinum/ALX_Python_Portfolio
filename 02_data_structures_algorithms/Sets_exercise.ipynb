{
 "cells": [
  {
   "cell_type": "markdown",
   "id": "cd88ea27",
   "metadata": {},
   "source": [
    "<div align=\"center\" style=\" font-size: 80%; text-align: center; margin: 0 auto\">\n",
    "<img src=\"https://raw.githubusercontent.com/Explore-AI/Pictures/master/Python-Notebook-Banners/Exercise.png\"  style=\"display: block; margin-left: auto; margin-right: auto;\";/>\n",
    "</div>"
   ]
  },
  {
   "cell_type": "markdown",
   "id": "f662d169",
   "metadata": {},
   "source": [
    "# Exercise: Sets\n"
   ]
  },
  {
   "cell_type": "markdown",
   "id": "26af890c",
   "metadata": {},
   "source": [
    "In this notebook, we'll be looking at exercises involving sets and how we manipulate these data structures. \n",
    "\n"
   ]
  },
  {
   "cell_type": "markdown",
   "id": "2d230d14",
   "metadata": {
    "tags": []
   },
   "source": [
    "## Learning objectives\n",
    "\n",
    "- Convert a list to a set and explore key differences.\n",
    "- Understand the core characteristics of sets: unique elements, non-indexed values.\n",
    "- Learn how to test membership in a set."
   ]
  },
  {
   "cell_type": "markdown",
   "id": "de45a481",
   "metadata": {},
   "source": [
    "## Exercises"
   ]
  },
  {
   "cell_type": "markdown",
   "id": "5a0b7683",
   "metadata": {
    "tags": []
   },
   "source": [
    "### Exercise 1\n",
    "\n",
    "1) Our forest rehabilitation centre contains various trees. To make sure we have all the species covered, we have to determine which unique trees we have already planted.\n",
    "- Convert the provided `tree_list` to a set, `tree_set`. \n",
    "- Confirm that our new variable is a set. \n",
    "- Print the original variable, as well as our new variable. What can we notice about the order of elements? \n"
   ]
  },
  {
   "cell_type": "code",
   "execution_count": 3,
   "id": "c2ee76ec",
   "metadata": {
    "scrolled": true
   },
   "outputs": [
    {
     "name": "stdout",
     "output_type": "stream",
     "text": [
      "<class 'set'>\n",
      "['Tamboti', 'Baobab', 'Umbrella thorn', 'Yellowwood', 'Fever Tree', 'Moringa', 'Marula', 'Waterpear', 'Baobab', 'Fountain Tree', 'Papaya Tree', 'Indian Laurel', 'Moringa']\n",
      "{'Baobab', 'Waterpear', 'Moringa', 'Yellowwood', 'Umbrella thorn', 'Indian Laurel', 'Fever Tree', 'Papaya Tree', 'Tamboti', 'Fountain Tree', 'Marula'}\n"
     ]
    }
   ],
   "source": [
    "# creating a list\n",
    "tree_list = ['Tamboti', 'Baobab', 'Umbrella thorn', 'Yellowwood', 'Fever Tree', 'Moringa', \n",
    "             'Marula', 'Waterpear','Baobab', 'Fountain Tree', 'Papaya Tree', 'Indian Laurel', 'Moringa']\n",
    "\n",
    "# insert your code here \n",
    "\n",
    "tree_set = set(tree_list)  # Converting the list to a set to remove duplicates\n",
    "print(type(tree_set))  # Checking the type of the set\n",
    "print(tree_list)\n",
    "print(tree_set)  # Output: {'Fever Tree', 'Moringa', 'Baobab', 'Tamboti', 'Umbrella thorn', 'Yellowwood', 'Marula', 'Waterpear', 'Fountain Tree', 'Papaya Tree', 'Indian Laurel'}"
   ]
  },
  {
   "cell_type": "markdown",
   "id": "5119d3a6",
   "metadata": {},
   "source": [
    "<br>\n",
    "\n",
    "2. Compare the **number** of elements in `tree_list` to `tree_set`. Print the number of elements in each. "
   ]
  },
  {
   "cell_type": "code",
   "execution_count": 5,
   "id": "fd136352",
   "metadata": {},
   "outputs": [
    {
     "name": "stdout",
     "output_type": "stream",
     "text": [
      "13\n",
      "11\n"
     ]
    }
   ],
   "source": [
    "# insert your code here \n",
    "\n",
    "list_elements = len(tree_list)  # Getting the number of elements in the list\n",
    "print(list_elements)  # Output: 13  \n",
    "\n",
    "set_elements = len(tree_set)  # Getting the number of elements in the set\n",
    "print(set_elements)  # Output: 11 (duplicates removed)"
   ]
  },
  {
   "cell_type": "markdown",
   "id": "dc9b7dc6",
   "metadata": {},
   "source": [
    "<br>\n",
    "\n",
    "### Exercise 2\n",
    "\n",
    "1. A conservationist recently spent two days in a national park in South Africa and was writing down tree types in a notebook. Each of the days was captured separately and we need to **create two variables** for these trees using sets: `day_1_trees` and `day_2_trees`. \n",
    "\n",
    "Day 1 captured the following tree types: <br>\n",
    "Baobab,\n",
    "Buffalo Thorn,\n",
    "Bushwillow,\n",
    "Jackalberry,\n",
    "Knob Thorn,\n",
    "Lala Palm,\n",
    "Marula Tree,\n",
    "Umbrella Thorn,\n",
    "Weeping Boer Bean,\n",
    "Sausage Tree.\n",
    "\n",
    "Day 2 captured the following tree types:<br>\n",
    "Mopane Tree,\n",
    "Bushwillow,\n",
    "Knob Thorn,\n",
    "Jackalberry,\n",
    "Nara Plant,\n",
    "Wild Date Palm,\n",
    "Natal Mahogany,\n",
    "Tamboti,\n",
    "Leadwood,\n",
    "Bushwillow.\n"
   ]
  },
  {
   "cell_type": "code",
   "execution_count": 6,
   "id": "ae48fab0",
   "metadata": {},
   "outputs": [
    {
     "name": "stdout",
     "output_type": "stream",
     "text": [
      "{'Baobab', 'Umbrella Thorn', 'Sausage Tree', 'Jackalberry', 'Weeping Boer Bean', 'Knob Thorn', 'Buffalo Thorn', 'Lala Palm', 'Marula Tree', 'Bushwillow'}\n",
      "{'Leadwood', 'Wild Date Palm', 'Jackalberry', 'Natal Mahogany', 'Knob Thorn', 'Tamboti', 'Nara Plant', 'Mopane Tree', 'Bushwillow'}\n"
     ]
    }
   ],
   "source": [
    "# insert your code here \n",
    "\n",
    "day_1_trees = {'Baobab', 'Buffalo Thorn', 'Bushwillow', 'Jackalberry', \n",
    "               'Knob Thorn', 'Lala Palm', 'Marula Tree', 'Umbrella Thorn', 'Weeping Boer Bean', 'Sausage Tree'}\n",
    "\n",
    "day_2_trees = {'Mopane Tree', 'Bushwillow', 'Knob Thorn', 'Jackalberry', \n",
    "               'Nara Plant', 'Wild Date Palm', 'Natal Mahogany', 'Tamboti', 'Leadwood', 'Bushwillow'}\n",
    "\n",
    "print(day_1_trees)\n",
    "print(day_2_trees)  "
   ]
  },
  {
   "cell_type": "markdown",
   "id": "ed90a3e0",
   "metadata": {},
   "source": [
    "One of the benefits of using **sets** is that there are built-in methods that can be used on them. The following commands: \n",
    "- `union`\n",
    "- `intersection`\n",
    "- `difference` <br>\n",
    "are especially useful when presented with sets we'd like to compare and manipulate based on their elements. \n",
    "<br>\n",
    "\n",
    "2. Using the commands above, we have been tasked to do the following: \n",
    "- Create a set called `union_result` that combines `day_1_trees` and `day_2_trees`.\n",
    "- Create a set called `both_days` that returns trees that were seen on both day 1 and day 2, so are in both `day_1_trees` and `day_2_trees`.\n",
    "- Create a set that contains the trees that are in the `day_2_trees` set, **but not in** `day_1_trees`.\n",
    "- Create a set called `one_set_result` that contains trees found in one of these sets only.\n",
    "\n",
    "Hint: Take a look at the Python documentation if you're not sure where to start."
   ]
  },
  {
   "cell_type": "code",
   "execution_count": 11,
   "id": "cfd87821",
   "metadata": {},
   "outputs": [
    {
     "name": "stdout",
     "output_type": "stream",
     "text": [
      "{'Baobab', 'Leadwood', 'Sausage Tree', 'Natal Mahogany', 'Knob Thorn', 'Buffalo Thorn', 'Lala Palm', 'Marula Tree', 'Bushwillow', 'Mopane Tree', 'Umbrella Thorn', 'Jackalberry', 'Weeping Boer Bean', 'Tamboti', 'Nara Plant', 'Wild Date Palm'}\n",
      "{'Jackalberry', 'Knob Thorn', 'Bushwillow'}\n",
      "{'Leadwood', 'Natal Mahogany', 'Tamboti', 'Nara Plant', 'Mopane Tree', 'Wild Date Palm'}\n",
      "One set only: {'Baobab', 'Umbrella Thorn', 'Leadwood', 'Sausage Tree', 'Weeping Boer Bean', 'Natal Mahogany', 'Buffalo Thorn', 'Tamboti', 'Nara Plant', 'Lala Palm', 'Mopane Tree', 'Marula Tree', 'Wild Date Palm'}\n"
     ]
    }
   ],
   "source": [
    "# insert your code here\n",
    "union_result = day_1_trees.union(day_2_trees)  # Combining both sets\n",
    "print(union_result)  # Output: {'Buffalo Thorn', 'Bushwill\n",
    "\n",
    "\n",
    "both_days_= day_1_trees.intersection(day_2_trees)  # Finding common trees\n",
    "print(both_days_)  # Output: {'Bushwillow', 'Knob Thorn',\n",
    "\n",
    "diff_result = day_2_trees.difference(day_1_trees)  # Trees only in day 1\n",
    "print(diff_result)  # Output: {'Baobab', 'Buffalo Thorn', '\n",
    "\n",
    "\n",
    "one_set_result = day_2_trees.difference(day_1_trees).union(day_1_trees.difference(day_2_trees))\n",
    "print('One set only:',one_set_result)"
   ]
  },
  {
   "cell_type": "markdown",
   "id": "5cdd4572",
   "metadata": {},
   "source": [
    "<br>\n",
    "\n",
    "3. Determine whether the `both_days` set is a subset of `day_1_trees`. \n",
    "\n",
    "Hint: If you haven't come across the command for this yet, try hitting the `tab` key to search for the relevant command or look it up in the Python documentation.\n"
   ]
  },
  {
   "cell_type": "code",
   "execution_count": 12,
   "id": "06cf870d",
   "metadata": {},
   "outputs": [
    {
     "name": "stdout",
     "output_type": "stream",
     "text": [
      "True\n"
     ]
    }
   ],
   "source": [
    "# insert your code here\n",
    "both_days_issubset = both_days_.issubset(day_1_trees)  # Checking if day 1 trees are a subset of day 2 trees\n",
    "print(both_days_issubset)  # Output: False          \n",
    "\n"
   ]
  },
  {
   "cell_type": "markdown",
   "id": "82327750",
   "metadata": {},
   "source": [
    "<br>\n",
    "\n",
    "4. Determine whether all of the elements in the following variable, `hardwood_trees`, are contained in `day_2_trees`. Ideally, we'd like to run a single command to test this.\n"
   ]
  },
  {
   "cell_type": "code",
   "execution_count": 14,
   "id": "342d5d21",
   "metadata": {},
   "outputs": [
    {
     "data": {
      "text/plain": [
       "False"
      ]
     },
     "execution_count": 14,
     "metadata": {},
     "output_type": "execute_result"
    }
   ],
   "source": [
    "hardwood_trees = {'Yellowwood', 'Leadwood', 'Blackwood'}\n",
    "\n",
    "# insert your code here\n",
    "\n",
    "hardwood_trees.issubset(day_2_trees)  # Checking if hardwood trees are a subset of day 2 trees\n",
    "\n"
   ]
  },
  {
   "cell_type": "markdown",
   "id": "e9956efe",
   "metadata": {
    "tags": []
   },
   "source": [
    "<br>\n",
    "\n",
    "## Summary\n",
    "\n",
    "In this notebook, we looked at creating a set from a list, investigated key differences between lists and sets, and applied built-in set methods to manipulate sets. \n"
   ]
  },
  {
   "cell_type": "markdown",
   "id": "26fd094b-0fee-46f1-a4b8-73766813c42b",
   "metadata": {
    "tags": []
   },
   "source": [
    "#  \n",
    "\n",
    "<div align=\"center\" style=\" font-size: 80%; text-align: center; margin: 0 auto\">\n",
    "<img src=\"https://raw.githubusercontent.com/Explore-AI/Pictures/refs/heads/master/ALX_banners/ALX_Navy.png\"  style=\"width:140px\";/>\n",
    "</div>"
   ]
  }
 ],
 "metadata": {
  "kernelspec": {
   "display_name": "SQL_root",
   "language": "python",
   "name": "python3"
  },
  "language_info": {
   "codemirror_mode": {
    "name": "ipython",
    "version": 3
   },
   "file_extension": ".py",
   "mimetype": "text/x-python",
   "name": "python",
   "nbconvert_exporter": "python",
   "pygments_lexer": "ipython3",
   "version": "3.12.9"
  }
 },
 "nbformat": 4,
 "nbformat_minor": 5
}
