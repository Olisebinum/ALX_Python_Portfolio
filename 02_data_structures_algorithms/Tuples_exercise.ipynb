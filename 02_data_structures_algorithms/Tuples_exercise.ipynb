{
 "cells": [
  {
   "cell_type": "markdown",
   "id": "1a8f72ba",
   "metadata": {},
   "source": [
    "<div align=\"center\" style=\" font-size: 80%; text-align: center; margin: 0 auto\">\n",
    "<img src=\"https://raw.githubusercontent.com/Explore-AI/Pictures/master/Python-Notebook-Banners/Exercise.png\"  style=\"display: block; margin-left: auto; margin-right: auto;\";/>\n",
    "</div>"
   ]
  },
  {
   "cell_type": "markdown",
   "id": "f662d169",
   "metadata": {},
   "source": [
    "# Exercise: Tuples\n"
   ]
  },
  {
   "cell_type": "markdown",
   "id": "3fffe403",
   "metadata": {},
   "source": [
    "In this exercise, we are going to solve problems involving tuples."
   ]
  },
  {
   "cell_type": "markdown",
   "id": "2d230d14",
   "metadata": {
    "tags": []
   },
   "source": [
    "## Learning objectives\n",
    "\n",
    "- Create, concatenate, and slice tuples.\n",
    "- Make use of tuple methods.\n",
    "- Unpack a tuple."
   ]
  },
  {
   "cell_type": "markdown",
   "id": "6d305bd2",
   "metadata": {},
   "source": [
    "## Exercises"
   ]
  },
  {
   "cell_type": "markdown",
   "id": "5a0b7683",
   "metadata": {
    "tags": []
   },
   "source": [
    "### Exercise 1\n",
    "\n",
    "1. Create a tuple named `tree_tuple` containing three elements: `8`, `'apple'`, and `'Granny Smith'`.\n"
   ]
  },
  {
   "cell_type": "code",
   "execution_count": 1,
   "id": "ca40207e",
   "metadata": {},
   "outputs": [
    {
     "name": "stdout",
     "output_type": "stream",
     "text": [
      "(8, 'apple', 'Granny Smith')\n"
     ]
    }
   ],
   "source": [
    "# insert your code here \n",
    "\n",
    "tree_tuple = (8, \"apple\", \"Granny Smith\")\n",
    "print(tree_tuple)  # Accessing the first element of the tuple"
   ]
  },
  {
   "cell_type": "markdown",
   "id": "5f37ca4c",
   "metadata": {},
   "source": [
    "Note: We can use the `type()` function to check that `tree_tuple` is, in fact, a tuple."
   ]
  },
  {
   "cell_type": "code",
   "execution_count": 3,
   "id": "1e4dec0b",
   "metadata": {},
   "outputs": [
    {
     "data": {
      "text/plain": [
       "tuple"
      ]
     },
     "execution_count": 3,
     "metadata": {},
     "output_type": "execute_result"
    }
   ],
   "source": [
    "type(tree_tuple)  # Checking the type of the tuple\n",
    " # Accessing the first element of the tuple"
   ]
  },
  {
   "cell_type": "markdown",
   "id": "fb6d5acd",
   "metadata": {},
   "source": [
    "<br>\n",
    "\n",
    "2. Find the length of the tuple.\n"
   ]
  },
  {
   "cell_type": "code",
   "execution_count": 4,
   "id": "0b5ccea5",
   "metadata": {},
   "outputs": [
    {
     "data": {
      "text/plain": [
       "3"
      ]
     },
     "execution_count": 4,
     "metadata": {},
     "output_type": "execute_result"
    }
   ],
   "source": [
    "# insert your code here \n",
    "\n",
    "len(tree_tuple)"
   ]
  },
  {
   "cell_type": "markdown",
   "id": "83911c8e",
   "metadata": {},
   "source": [
    "<br>\n",
    "\n",
    "3. Access the second element, `'apple'`, in the `tree_tuple` using an index and assign the value to a variable called `fruit`. Print the variable. "
   ]
  },
  {
   "cell_type": "code",
   "execution_count": 5,
   "id": "52f5bc48",
   "metadata": {},
   "outputs": [
    {
     "name": "stdout",
     "output_type": "stream",
     "text": [
      "apple\n"
     ]
    }
   ],
   "source": [
    "# insert your code here \n",
    "\n",
    "second_element = tree_tuple[1]  # Accessing the second element of the tuple\n",
    "print(second_element)  # Output: apple"
   ]
  },
  {
   "cell_type": "markdown",
   "id": "ab6f589c",
   "metadata": {},
   "source": [
    "<br>\n",
    "\n",
    "4. Attempt to change the value of `'apple'` in `tree_tuple` to `'pear'` using assignment.\n"
   ]
  },
  {
   "cell_type": "code",
   "execution_count": null,
   "id": "0eb3a78f",
   "metadata": {},
   "outputs": [],
   "source": [
    "# insert your code here \n",
    "\n",
    "tree_tuple[1] = 'pear'"
   ]
  },
  {
   "cell_type": "markdown",
   "id": "ed3af8cf",
   "metadata": {},
   "source": [
    " If you got an error, it's exactly what should happen! **Tuples are immutable** and we cannot alter their contents after creation.\n",
    "   \n",
    " "
   ]
  },
  {
   "cell_type": "markdown",
   "id": "9d80cde9",
   "metadata": {},
   "source": [
    "<br>\n",
    "\n",
    "5. Create a new tuple called `text_only` and place the last two elements of `tree_tuple` into it."
   ]
  },
  {
   "cell_type": "code",
   "execution_count": 6,
   "id": "21fbb221",
   "metadata": {},
   "outputs": [
    {
     "name": "stdout",
     "output_type": "stream",
     "text": [
      "('apple', 'Granny Smith')\n"
     ]
    }
   ],
   "source": [
    "# insert your code here \n",
    "\n",
    "text_only = tree_tuple[1:3]\n",
    "print(text_only)  # Output: ('apple', 'Granny Smith')"
   ]
  },
  {
   "cell_type": "markdown",
   "id": "5e148cac",
   "metadata": {},
   "source": [
    "<br>\n",
    "\n",
    "### Exercise 2\n",
    "\n",
    "1. Create two tuples: `fruit_summer` and `fruit_winter`, with elements (`'peach'`, `'apricot'`, `'plum'`) and (`'lemon'`, `'orange'`, `'grapefruit'`), respectively. Print the tuples to screen in the same print statement.\n"
   ]
  },
  {
   "cell_type": "code",
   "execution_count": 7,
   "id": "6aad0f85",
   "metadata": {},
   "outputs": [
    {
     "name": "stdout",
     "output_type": "stream",
     "text": [
      "('peach', 'apricot', 'plum')\n",
      "('lemon', 'orange', 'grapefruit')\n"
     ]
    }
   ],
   "source": [
    "# insert your code here \n",
    "fruit_summer = (\"peach\", \"apricot\", \"plum\")\n",
    "fruit_winter = (\"lemon\", \"orange\", \"grapefruit\")\n",
    "\n",
    "print(fruit_summer)\n",
    "print(fruit_winter)\n",
    "\n",
    "\n"
   ]
  },
  {
   "cell_type": "markdown",
   "id": "7baad7aa",
   "metadata": {},
   "source": [
    "<br>\n",
    "\n",
    "2. Combine these following two tuples, `fruit_summer` and `fruit_winter`, to form a new tuple, `all_fruit`. Print the new tuple to the screen."
   ]
  },
  {
   "cell_type": "code",
   "execution_count": 8,
   "id": "7dd8dce1",
   "metadata": {},
   "outputs": [
    {
     "name": "stdout",
     "output_type": "stream",
     "text": [
      "('peach', 'apricot', 'plum', 'lemon', 'orange', 'grapefruit')\n"
     ]
    }
   ],
   "source": [
    "# insert your code here \n",
    "\n",
    "all_fruits = fruit_summer + fruit_winter\n",
    "print(all_fruits)  # Output: ('peach', 'apricot', '"
   ]
  },
  {
   "cell_type": "markdown",
   "id": "607ed006",
   "metadata": {},
   "source": [
    "<br>\n",
    "\n",
    "3. Confirm how many times the element `'peach'` appears in `all_fruit`."
   ]
  },
  {
   "cell_type": "code",
   "execution_count": 9,
   "id": "5fa8890d",
   "metadata": {},
   "outputs": [
    {
     "name": "stdout",
     "output_type": "stream",
     "text": [
      "1\n"
     ]
    }
   ],
   "source": [
    "# insert your code here \n",
    "\n",
    "peach_count = all_fruits.count(\"peach\")\n",
    "print(peach_count)  # Output: 1 \n"
   ]
  },
  {
   "cell_type": "markdown",
   "id": "616c87fe",
   "metadata": {},
   "source": [
    "<br>\n",
    "\n",
    "4. Suppose we have the `combined_info` tuple shown in the block of code below, containing three elements – the colour of the fruit, the age of the tree, and the type of tree. We'd however like to work with these elements individually and need to create variables (colour, age, tree_type) for each of the elements in the tuple.  "
   ]
  },
  {
   "cell_type": "code",
   "execution_count": 10,
   "id": "ae5c21c1",
   "metadata": {},
   "outputs": [
    {
     "name": "stdout",
     "output_type": "stream",
     "text": [
      "yellow 5 lemon\n"
     ]
    }
   ],
   "source": [
    "# combined_info tuple\n",
    "combined_info = ('yellow', 5, 'lemon')\n",
    "\n",
    "# insert your code here \n",
    "\n",
    "colour, age , tree_type = combined_info\n",
    "\n",
    "print(colour, age, tree_type)"
   ]
  },
  {
   "cell_type": "markdown",
   "id": "68a84035",
   "metadata": {},
   "source": [
    "Did you use an index to assign the values to variables? If so, also take a look at the solution provided later in this notebook for a fast way of assigning tuple elements to variables! "
   ]
  },
  {
   "cell_type": "markdown",
   "id": "e9956efe",
   "metadata": {
    "tags": []
   },
   "source": [
    "<br>\n",
    "\n",
    "## Summary\n",
    "\n",
    "Tuples are simple data structures and are especially useful when storing a **small number of elements** that need to be accessed during the course of a program. Remember to look at the Python documentation on tuples for more information and examples!"
   ]
  },
  {
   "cell_type": "markdown",
   "id": "26fd094b-0fee-46f1-a4b8-73766813c42b",
   "metadata": {
    "tags": []
   },
   "source": [
    "#  \n",
    "\n",
    "<div align=\"center\" style=\" font-size: 80%; text-align: center; margin: 0 auto\">\n",
    "<img src=\"https://raw.githubusercontent.com/Explore-AI/Pictures/refs/heads/master/ALX_banners/ALX_Navy.png\"  style=\"width:140px\";/>\n",
    "</div>"
   ]
  }
 ],
 "metadata": {
  "kernelspec": {
   "display_name": "SQL_root",
   "language": "python",
   "name": "python3"
  },
  "language_info": {
   "codemirror_mode": {
    "name": "ipython",
    "version": 3
   },
   "file_extension": ".py",
   "mimetype": "text/x-python",
   "name": "python",
   "nbconvert_exporter": "python",
   "pygments_lexer": "ipython3",
   "version": "3.12.9"
  }
 },
 "nbformat": 4,
 "nbformat_minor": 5
}
