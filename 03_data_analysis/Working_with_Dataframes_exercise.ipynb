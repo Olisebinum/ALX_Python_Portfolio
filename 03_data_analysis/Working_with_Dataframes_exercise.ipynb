{
 "cells": [
  {
   "cell_type": "markdown",
   "metadata": {
    "id": "Ee-v8I_P8rfp"
   },
   "source": [
    "<div align=\"center\" style=\" font-size: 80%; text-align: center; margin: 0 auto\">\n",
    "<img src=\"https://raw.githubusercontent.com/Explore-AI/Pictures/master/Python-Notebook-Banners/Exercise.png\"  style=\"display: block; margin-left: auto; margin-right: auto;\";/>\n",
    "</div>\n",
    "\n",
    "# Exercise: Working with DataFrames\n",
    "\n",
    "\n",
    "In this exercise, we'll be exploring some ways in which we can manipulate the data stored within a Pandas DataFrame."
   ]
  },
  {
   "cell_type": "markdown",
   "metadata": {
    "id": "ITqrvAqq8xSC"
   },
   "source": [
    "## Learning objectives\n",
    "\n",
    "By the end of this train, you should be able to:\n",
    "* Sort, filter, and group a Pandas DataFrame.\n",
    "* Create and delete columns in a Pandas DataFrame.\n",
    "* Transform a Pandas DataFrame."
   ]
  },
  {
   "cell_type": "markdown",
   "metadata": {},
   "source": [
    "## Exercises"
   ]
  },
  {
   "cell_type": "markdown",
   "metadata": {},
   "source": [
    "### Import libraries and dataset"
   ]
  },
  {
   "cell_type": "code",
   "execution_count": 1,
   "metadata": {},
   "outputs": [],
   "source": [
    "import pandas as pd\n",
    "import numpy as np"
   ]
  },
  {
   "cell_type": "markdown",
   "metadata": {},
   "source": [
    "We are using a dataset named `Animals.csv` that stores information about a variety of animal species."
   ]
  },
  {
   "cell_type": "code",
   "execution_count": 2,
   "metadata": {},
   "outputs": [],
   "source": [
    "animal_df = pd.read_csv('https://raw.githubusercontent.com/Explore-AI/Public-Data/master/Data/Python/Animals.csv')"
   ]
  },
  {
   "cell_type": "markdown",
   "metadata": {},
   "source": [
    "### Exercise 1\n",
    "\n",
    "Filter the dataset to show only species that have an `Average Lifespan (Years)` **greater than 20** and are classified as `Vulnerable` in `Conservation Status`."
   ]
  },
  {
   "cell_type": "code",
   "execution_count": 4,
   "metadata": {},
   "outputs": [
    {
     "data": {
      "application/vnd.microsoft.datawrangler.viewer.v0+json": {
       "columns": [
        {
         "name": "index",
         "rawType": "int64",
         "type": "integer"
        },
        {
         "name": "Species",
         "rawType": "object",
         "type": "string"
        },
        {
         "name": "Average Lifespan (Years)",
         "rawType": "int64",
         "type": "integer"
        },
        {
         "name": "Habitat",
         "rawType": "object",
         "type": "string"
        },
        {
         "name": "Conservation Status",
         "rawType": "object",
         "type": "string"
        }
       ],
       "ref": "5f07e004-474a-4f8b-a44d-3be003cfe91e",
       "rows": [
        [
         "0",
         "African Elephant",
         "60",
         "Grasslands",
         "Vulnerable"
        ],
        [
         "4",
         "Komodo Dragon",
         "30",
         "Islands",
         "Vulnerable"
        ],
        [
         "5",
         "Polar Bear",
         "25",
         "Arctic",
         "Vulnerable"
        ]
       ],
       "shape": {
        "columns": 4,
        "rows": 3
       }
      },
      "text/html": [
       "<div>\n",
       "<style scoped>\n",
       "    .dataframe tbody tr th:only-of-type {\n",
       "        vertical-align: middle;\n",
       "    }\n",
       "\n",
       "    .dataframe tbody tr th {\n",
       "        vertical-align: top;\n",
       "    }\n",
       "\n",
       "    .dataframe thead th {\n",
       "        text-align: right;\n",
       "    }\n",
       "</style>\n",
       "<table border=\"1\" class=\"dataframe\">\n",
       "  <thead>\n",
       "    <tr style=\"text-align: right;\">\n",
       "      <th></th>\n",
       "      <th>Species</th>\n",
       "      <th>Average Lifespan (Years)</th>\n",
       "      <th>Habitat</th>\n",
       "      <th>Conservation Status</th>\n",
       "    </tr>\n",
       "  </thead>\n",
       "  <tbody>\n",
       "    <tr>\n",
       "      <th>0</th>\n",
       "      <td>African Elephant</td>\n",
       "      <td>60</td>\n",
       "      <td>Grasslands</td>\n",
       "      <td>Vulnerable</td>\n",
       "    </tr>\n",
       "    <tr>\n",
       "      <th>4</th>\n",
       "      <td>Komodo Dragon</td>\n",
       "      <td>30</td>\n",
       "      <td>Islands</td>\n",
       "      <td>Vulnerable</td>\n",
       "    </tr>\n",
       "    <tr>\n",
       "      <th>5</th>\n",
       "      <td>Polar Bear</td>\n",
       "      <td>25</td>\n",
       "      <td>Arctic</td>\n",
       "      <td>Vulnerable</td>\n",
       "    </tr>\n",
       "  </tbody>\n",
       "</table>\n",
       "</div>"
      ],
      "text/plain": [
       "            Species  Average Lifespan (Years)     Habitat Conservation Status\n",
       "0  African Elephant                        60  Grasslands          Vulnerable\n",
       "4     Komodo Dragon                        30     Islands          Vulnerable\n",
       "5        Polar Bear                        25      Arctic          Vulnerable"
      ]
     },
     "execution_count": 4,
     "metadata": {},
     "output_type": "execute_result"
    }
   ],
   "source": [
    "# Your solution here...\n",
    "\n",
    "df = animal_df\n",
    "\n",
    "# Filter species with Average Lifespan (Years) > 20 and Conservation Status == 'Vulnerable'\n",
    "filtered_df = df[(df['Average Lifespan (Years)'] > 20) & (df['Conservation Status'] == 'Vulnerable')]\n",
    "\n",
    "filtered_df\n",
    "\n"
   ]
  },
  {
   "cell_type": "markdown",
   "metadata": {},
   "source": [
    "### Exercise 2\n",
    "\n",
    "**a)** Create a new column `Lifespan in Months` by converting the `Average Lifespan (Years)` to months.\n"
   ]
  },
  {
   "cell_type": "code",
   "execution_count": 14,
   "metadata": {},
   "outputs": [
    {
     "data": {
      "application/vnd.microsoft.datawrangler.viewer.v0+json": {
       "columns": [
        {
         "name": "index",
         "rawType": "int64",
         "type": "integer"
        },
        {
         "name": "Species",
         "rawType": "object",
         "type": "string"
        },
        {
         "name": "Average Lifespan (Years)",
         "rawType": "int64",
         "type": "integer"
        },
        {
         "name": "Habitat",
         "rawType": "object",
         "type": "string"
        },
        {
         "name": "Conservation Status",
         "rawType": "object",
         "type": "string"
        },
        {
         "name": "lifespan_in_months",
         "rawType": "int64",
         "type": "integer"
        }
       ],
       "ref": "60dc369e-c284-48d7-9119-7ed99dad5fb5",
       "rows": [
        [
         "0",
         "African Elephant",
         "60",
         "Grasslands",
         "Vulnerable",
         "720"
        ],
        [
         "1",
         "Bengal Tiger",
         "15",
         "Forests",
         "Endangered",
         "180"
        ],
        [
         "2",
         "Blue Whale",
         "80",
         "Ocean",
         "Endangered",
         "960"
        ],
        [
         "3",
         "Giant Panda",
         "20",
         "Temperate Forest",
         "Vulnerable",
         "240"
        ],
        [
         "4",
         "Komodo Dragon",
         "30",
         "Islands",
         "Vulnerable",
         "360"
        ],
        [
         "5",
         "Polar Bear",
         "25",
         "Arctic",
         "Vulnerable",
         "300"
        ],
        [
         "6",
         "Red Fox",
         "5",
         "Various",
         "Least Concern",
         "60"
        ],
        [
         "7",
         "Emperor Penguin",
         "20",
         "Antarctic",
         "Near Threatened",
         "240"
        ],
        [
         "8",
         "Koala",
         "13",
         "Eucalyptus Forests",
         "Vulnerable",
         "156"
        ],
        [
         "9",
         "Orangutan",
         "35",
         "Rainforests",
         "Critically Endangered",
         "420"
        ],
        [
         "10",
         "Snow Leopard",
         "15",
         "Mountain Ranges",
         "Vulnerable",
         "180"
        ],
        [
         "11",
         "Bald Eagle",
         "20",
         "Forests, Seacoasts",
         "Least Concern",
         "240"
        ],
        [
         "12",
         "African Lion",
         "14",
         "Savanna",
         "Vulnerable",
         "168"
        ],
        [
         "13",
         "Green Sea Turtle",
         "80",
         "Oceans, Beaches",
         "Endangered",
         "960"
        ],
        [
         "14",
         "Gray Wolf",
         "8",
         "Forests, Tundra",
         "Least Concern",
         "96"
        ]
       ],
       "shape": {
        "columns": 5,
        "rows": 15
       }
      },
      "text/html": [
       "<div>\n",
       "<style scoped>\n",
       "    .dataframe tbody tr th:only-of-type {\n",
       "        vertical-align: middle;\n",
       "    }\n",
       "\n",
       "    .dataframe tbody tr th {\n",
       "        vertical-align: top;\n",
       "    }\n",
       "\n",
       "    .dataframe thead th {\n",
       "        text-align: right;\n",
       "    }\n",
       "</style>\n",
       "<table border=\"1\" class=\"dataframe\">\n",
       "  <thead>\n",
       "    <tr style=\"text-align: right;\">\n",
       "      <th></th>\n",
       "      <th>Species</th>\n",
       "      <th>Average Lifespan (Years)</th>\n",
       "      <th>Habitat</th>\n",
       "      <th>Conservation Status</th>\n",
       "      <th>lifespan_in_months</th>\n",
       "    </tr>\n",
       "  </thead>\n",
       "  <tbody>\n",
       "    <tr>\n",
       "      <th>0</th>\n",
       "      <td>African Elephant</td>\n",
       "      <td>60</td>\n",
       "      <td>Grasslands</td>\n",
       "      <td>Vulnerable</td>\n",
       "      <td>720</td>\n",
       "    </tr>\n",
       "    <tr>\n",
       "      <th>1</th>\n",
       "      <td>Bengal Tiger</td>\n",
       "      <td>15</td>\n",
       "      <td>Forests</td>\n",
       "      <td>Endangered</td>\n",
       "      <td>180</td>\n",
       "    </tr>\n",
       "    <tr>\n",
       "      <th>2</th>\n",
       "      <td>Blue Whale</td>\n",
       "      <td>80</td>\n",
       "      <td>Ocean</td>\n",
       "      <td>Endangered</td>\n",
       "      <td>960</td>\n",
       "    </tr>\n",
       "    <tr>\n",
       "      <th>3</th>\n",
       "      <td>Giant Panda</td>\n",
       "      <td>20</td>\n",
       "      <td>Temperate Forest</td>\n",
       "      <td>Vulnerable</td>\n",
       "      <td>240</td>\n",
       "    </tr>\n",
       "    <tr>\n",
       "      <th>4</th>\n",
       "      <td>Komodo Dragon</td>\n",
       "      <td>30</td>\n",
       "      <td>Islands</td>\n",
       "      <td>Vulnerable</td>\n",
       "      <td>360</td>\n",
       "    </tr>\n",
       "    <tr>\n",
       "      <th>5</th>\n",
       "      <td>Polar Bear</td>\n",
       "      <td>25</td>\n",
       "      <td>Arctic</td>\n",
       "      <td>Vulnerable</td>\n",
       "      <td>300</td>\n",
       "    </tr>\n",
       "    <tr>\n",
       "      <th>6</th>\n",
       "      <td>Red Fox</td>\n",
       "      <td>5</td>\n",
       "      <td>Various</td>\n",
       "      <td>Least Concern</td>\n",
       "      <td>60</td>\n",
       "    </tr>\n",
       "    <tr>\n",
       "      <th>7</th>\n",
       "      <td>Emperor Penguin</td>\n",
       "      <td>20</td>\n",
       "      <td>Antarctic</td>\n",
       "      <td>Near Threatened</td>\n",
       "      <td>240</td>\n",
       "    </tr>\n",
       "    <tr>\n",
       "      <th>8</th>\n",
       "      <td>Koala</td>\n",
       "      <td>13</td>\n",
       "      <td>Eucalyptus Forests</td>\n",
       "      <td>Vulnerable</td>\n",
       "      <td>156</td>\n",
       "    </tr>\n",
       "    <tr>\n",
       "      <th>9</th>\n",
       "      <td>Orangutan</td>\n",
       "      <td>35</td>\n",
       "      <td>Rainforests</td>\n",
       "      <td>Critically Endangered</td>\n",
       "      <td>420</td>\n",
       "    </tr>\n",
       "    <tr>\n",
       "      <th>10</th>\n",
       "      <td>Snow Leopard</td>\n",
       "      <td>15</td>\n",
       "      <td>Mountain Ranges</td>\n",
       "      <td>Vulnerable</td>\n",
       "      <td>180</td>\n",
       "    </tr>\n",
       "    <tr>\n",
       "      <th>11</th>\n",
       "      <td>Bald Eagle</td>\n",
       "      <td>20</td>\n",
       "      <td>Forests, Seacoasts</td>\n",
       "      <td>Least Concern</td>\n",
       "      <td>240</td>\n",
       "    </tr>\n",
       "    <tr>\n",
       "      <th>12</th>\n",
       "      <td>African Lion</td>\n",
       "      <td>14</td>\n",
       "      <td>Savanna</td>\n",
       "      <td>Vulnerable</td>\n",
       "      <td>168</td>\n",
       "    </tr>\n",
       "    <tr>\n",
       "      <th>13</th>\n",
       "      <td>Green Sea Turtle</td>\n",
       "      <td>80</td>\n",
       "      <td>Oceans, Beaches</td>\n",
       "      <td>Endangered</td>\n",
       "      <td>960</td>\n",
       "    </tr>\n",
       "    <tr>\n",
       "      <th>14</th>\n",
       "      <td>Gray Wolf</td>\n",
       "      <td>8</td>\n",
       "      <td>Forests, Tundra</td>\n",
       "      <td>Least Concern</td>\n",
       "      <td>96</td>\n",
       "    </tr>\n",
       "  </tbody>\n",
       "</table>\n",
       "</div>"
      ],
      "text/plain": [
       "             Species  Average Lifespan (Years)             Habitat  \\\n",
       "0   African Elephant                        60          Grasslands   \n",
       "1       Bengal Tiger                        15             Forests   \n",
       "2         Blue Whale                        80               Ocean   \n",
       "3        Giant Panda                        20    Temperate Forest   \n",
       "4      Komodo Dragon                        30             Islands   \n",
       "5         Polar Bear                        25              Arctic   \n",
       "6            Red Fox                         5             Various   \n",
       "7    Emperor Penguin                        20           Antarctic   \n",
       "8              Koala                        13  Eucalyptus Forests   \n",
       "9          Orangutan                        35         Rainforests   \n",
       "10      Snow Leopard                        15     Mountain Ranges   \n",
       "11        Bald Eagle                        20  Forests, Seacoasts   \n",
       "12      African Lion                        14             Savanna   \n",
       "13  Green Sea Turtle                        80     Oceans, Beaches   \n",
       "14         Gray Wolf                         8     Forests, Tundra   \n",
       "\n",
       "      Conservation Status  lifespan_in_months  \n",
       "0              Vulnerable                 720  \n",
       "1              Endangered                 180  \n",
       "2              Endangered                 960  \n",
       "3              Vulnerable                 240  \n",
       "4              Vulnerable                 360  \n",
       "5              Vulnerable                 300  \n",
       "6           Least Concern                  60  \n",
       "7         Near Threatened                 240  \n",
       "8              Vulnerable                 156  \n",
       "9   Critically Endangered                 420  \n",
       "10             Vulnerable                 180  \n",
       "11          Least Concern                 240  \n",
       "12             Vulnerable                 168  \n",
       "13             Endangered                 960  \n",
       "14          Least Concern                  96  "
      ]
     },
     "execution_count": 14,
     "metadata": {},
     "output_type": "execute_result"
    }
   ],
   "source": [
    "# Your solution here...\n",
    "\n",
    "\n",
    "animal_df['lifespan_in_months'] = animal_df['Average Lifespan (Years)'] * 12\n",
    "\n",
    "animal_df"
   ]
  },
  {
   "cell_type": "markdown",
   "metadata": {},
   "source": [
    "**b)** Delete the `Lifespan in Months` column from the DataFrame."
   ]
  },
  {
   "cell_type": "code",
   "execution_count": 15,
   "metadata": {},
   "outputs": [],
   "source": [
    "# Your solution here...\n",
    "\n",
    "animal_df.drop(columns=['lifespan_in_months'], axis=1, inplace=True)"
   ]
  },
  {
   "cell_type": "markdown",
   "metadata": {},
   "source": [
    "### Exercise 3\n",
    "\n",
    "**a)** Filter the DataFrame `animal_df` to include only species with an `Average Lifespan (Years)` **greater than 50 years**. Store the result in a new DataFrame `Long_lived_species`."
   ]
  },
  {
   "cell_type": "code",
   "execution_count": 17,
   "metadata": {},
   "outputs": [
    {
     "data": {
      "application/vnd.microsoft.datawrangler.viewer.v0+json": {
       "columns": [
        {
         "name": "index",
         "rawType": "int64",
         "type": "integer"
        },
        {
         "name": "Species",
         "rawType": "object",
         "type": "string"
        },
        {
         "name": "Average Lifespan (Years)",
         "rawType": "int64",
         "type": "integer"
        },
        {
         "name": "Habitat",
         "rawType": "object",
         "type": "string"
        },
        {
         "name": "Conservation Status",
         "rawType": "object",
         "type": "string"
        }
       ],
       "ref": "20640aaf-c142-4754-9e12-e6cb025fb2fb",
       "rows": [
        [
         "0",
         "African Elephant",
         "60",
         "Grasslands",
         "Vulnerable"
        ],
        [
         "2",
         "Blue Whale",
         "80",
         "Ocean",
         "Endangered"
        ],
        [
         "13",
         "Green Sea Turtle",
         "80",
         "Oceans, Beaches",
         "Endangered"
        ]
       ],
       "shape": {
        "columns": 4,
        "rows": 3
       }
      },
      "text/html": [
       "<div>\n",
       "<style scoped>\n",
       "    .dataframe tbody tr th:only-of-type {\n",
       "        vertical-align: middle;\n",
       "    }\n",
       "\n",
       "    .dataframe tbody tr th {\n",
       "        vertical-align: top;\n",
       "    }\n",
       "\n",
       "    .dataframe thead th {\n",
       "        text-align: right;\n",
       "    }\n",
       "</style>\n",
       "<table border=\"1\" class=\"dataframe\">\n",
       "  <thead>\n",
       "    <tr style=\"text-align: right;\">\n",
       "      <th></th>\n",
       "      <th>Species</th>\n",
       "      <th>Average Lifespan (Years)</th>\n",
       "      <th>Habitat</th>\n",
       "      <th>Conservation Status</th>\n",
       "    </tr>\n",
       "  </thead>\n",
       "  <tbody>\n",
       "    <tr>\n",
       "      <th>0</th>\n",
       "      <td>African Elephant</td>\n",
       "      <td>60</td>\n",
       "      <td>Grasslands</td>\n",
       "      <td>Vulnerable</td>\n",
       "    </tr>\n",
       "    <tr>\n",
       "      <th>2</th>\n",
       "      <td>Blue Whale</td>\n",
       "      <td>80</td>\n",
       "      <td>Ocean</td>\n",
       "      <td>Endangered</td>\n",
       "    </tr>\n",
       "    <tr>\n",
       "      <th>13</th>\n",
       "      <td>Green Sea Turtle</td>\n",
       "      <td>80</td>\n",
       "      <td>Oceans, Beaches</td>\n",
       "      <td>Endangered</td>\n",
       "    </tr>\n",
       "  </tbody>\n",
       "</table>\n",
       "</div>"
      ],
      "text/plain": [
       "             Species  Average Lifespan (Years)          Habitat  \\\n",
       "0   African Elephant                        60       Grasslands   \n",
       "2         Blue Whale                        80            Ocean   \n",
       "13  Green Sea Turtle                        80  Oceans, Beaches   \n",
       "\n",
       "   Conservation Status  \n",
       "0           Vulnerable  \n",
       "2           Endangered  \n",
       "13          Endangered  "
      ]
     },
     "execution_count": 17,
     "metadata": {},
     "output_type": "execute_result"
    }
   ],
   "source": [
    "# Your solution here...\n",
    "\n",
    "long_lived_species = animal_df[animal_df['Average Lifespan (Years)'] > 50 ]\n",
    "\n",
    "long_lived_species"
   ]
  },
  {
   "cell_type": "markdown",
   "metadata": {},
   "source": [
    "**b)** Using the `apply` and `lambda` functions, convert the `Average Lifespan (Years)` of all species into the float data type in `Long_lived_species`."
   ]
  },
  {
   "cell_type": "code",
   "execution_count": 20,
   "metadata": {},
   "outputs": [
    {
     "name": "stderr",
     "output_type": "stream",
     "text": [
      "/var/folders/gq/cw_91ncx0gb177d2wx2pv7km0000gn/T/ipykernel_37391/1478036329.py:3: SettingWithCopyWarning: \n",
      "A value is trying to be set on a copy of a slice from a DataFrame.\n",
      "Try using .loc[row_indexer,col_indexer] = value instead\n",
      "\n",
      "See the caveats in the documentation: https://pandas.pydata.org/pandas-docs/stable/user_guide/indexing.html#returning-a-view-versus-a-copy\n",
      "  long_lived_species['Average Lifespan (Years)'] = long_lived_species['Average Lifespan (Years)'].apply(lambda x: float(x))\n"
     ]
    },
    {
     "data": {
      "application/vnd.microsoft.datawrangler.viewer.v0+json": {
       "columns": [
        {
         "name": "index",
         "rawType": "int64",
         "type": "integer"
        },
        {
         "name": "Species",
         "rawType": "object",
         "type": "string"
        },
        {
         "name": "Average Lifespan (Years)",
         "rawType": "float64",
         "type": "float"
        },
        {
         "name": "Habitat",
         "rawType": "object",
         "type": "string"
        },
        {
         "name": "Conservation Status",
         "rawType": "object",
         "type": "string"
        }
       ],
       "ref": "4be35d21-3515-482d-b4c1-ab273c9f92d4",
       "rows": [
        [
         "0",
         "African Elephant",
         "60.0",
         "Grasslands",
         "Vulnerable"
        ],
        [
         "2",
         "Blue Whale",
         "80.0",
         "Ocean",
         "Endangered"
        ],
        [
         "13",
         "Green Sea Turtle",
         "80.0",
         "Oceans, Beaches",
         "Endangered"
        ]
       ],
       "shape": {
        "columns": 4,
        "rows": 3
       }
      },
      "text/html": [
       "<div>\n",
       "<style scoped>\n",
       "    .dataframe tbody tr th:only-of-type {\n",
       "        vertical-align: middle;\n",
       "    }\n",
       "\n",
       "    .dataframe tbody tr th {\n",
       "        vertical-align: top;\n",
       "    }\n",
       "\n",
       "    .dataframe thead th {\n",
       "        text-align: right;\n",
       "    }\n",
       "</style>\n",
       "<table border=\"1\" class=\"dataframe\">\n",
       "  <thead>\n",
       "    <tr style=\"text-align: right;\">\n",
       "      <th></th>\n",
       "      <th>Species</th>\n",
       "      <th>Average Lifespan (Years)</th>\n",
       "      <th>Habitat</th>\n",
       "      <th>Conservation Status</th>\n",
       "    </tr>\n",
       "  </thead>\n",
       "  <tbody>\n",
       "    <tr>\n",
       "      <th>0</th>\n",
       "      <td>African Elephant</td>\n",
       "      <td>60.0</td>\n",
       "      <td>Grasslands</td>\n",
       "      <td>Vulnerable</td>\n",
       "    </tr>\n",
       "    <tr>\n",
       "      <th>2</th>\n",
       "      <td>Blue Whale</td>\n",
       "      <td>80.0</td>\n",
       "      <td>Ocean</td>\n",
       "      <td>Endangered</td>\n",
       "    </tr>\n",
       "    <tr>\n",
       "      <th>13</th>\n",
       "      <td>Green Sea Turtle</td>\n",
       "      <td>80.0</td>\n",
       "      <td>Oceans, Beaches</td>\n",
       "      <td>Endangered</td>\n",
       "    </tr>\n",
       "  </tbody>\n",
       "</table>\n",
       "</div>"
      ],
      "text/plain": [
       "             Species  Average Lifespan (Years)          Habitat  \\\n",
       "0   African Elephant                      60.0       Grasslands   \n",
       "2         Blue Whale                      80.0            Ocean   \n",
       "13  Green Sea Turtle                      80.0  Oceans, Beaches   \n",
       "\n",
       "   Conservation Status  \n",
       "0           Vulnerable  \n",
       "2           Endangered  \n",
       "13          Endangered  "
      ]
     },
     "execution_count": 20,
     "metadata": {},
     "output_type": "execute_result"
    }
   ],
   "source": [
    "# Your solution here...\n",
    "\n",
    "long_lived_species['Average Lifespan (Years)'] = long_lived_species['Average Lifespan (Years)'].apply(lambda x: float(x))\n",
    "\n",
    "# Display the updated DataFrame \n",
    "long_lived_species"
   ]
  },
  {
   "cell_type": "markdown",
   "metadata": {},
   "source": [
    "### Exercise 4\n",
    "\n",
    "List all columns for species that have the string \"`Endangered`\" as part of their conservation status."
   ]
  },
  {
   "cell_type": "code",
   "execution_count": 26,
   "metadata": {},
   "outputs": [
    {
     "data": {
      "application/vnd.microsoft.datawrangler.viewer.v0+json": {
       "columns": [
        {
         "name": "index",
         "rawType": "int64",
         "type": "integer"
        },
        {
         "name": "Species",
         "rawType": "object",
         "type": "string"
        },
        {
         "name": "Average Lifespan (Years)",
         "rawType": "int64",
         "type": "integer"
        },
        {
         "name": "Habitat",
         "rawType": "object",
         "type": "string"
        },
        {
         "name": "Conservation Status",
         "rawType": "object",
         "type": "string"
        }
       ],
       "ref": "07eec8bc-778d-4575-889a-95a1719dfdd5",
       "rows": [
        [
         "1",
         "Bengal Tiger",
         "15",
         "Forests",
         "Endangered"
        ],
        [
         "2",
         "Blue Whale",
         "80",
         "Ocean",
         "Endangered"
        ],
        [
         "9",
         "Orangutan",
         "35",
         "Rainforests",
         "Critically Endangered"
        ],
        [
         "13",
         "Green Sea Turtle",
         "80",
         "Oceans, Beaches",
         "Endangered"
        ]
       ],
       "shape": {
        "columns": 4,
        "rows": 4
       }
      },
      "text/html": [
       "<div>\n",
       "<style scoped>\n",
       "    .dataframe tbody tr th:only-of-type {\n",
       "        vertical-align: middle;\n",
       "    }\n",
       "\n",
       "    .dataframe tbody tr th {\n",
       "        vertical-align: top;\n",
       "    }\n",
       "\n",
       "    .dataframe thead th {\n",
       "        text-align: right;\n",
       "    }\n",
       "</style>\n",
       "<table border=\"1\" class=\"dataframe\">\n",
       "  <thead>\n",
       "    <tr style=\"text-align: right;\">\n",
       "      <th></th>\n",
       "      <th>Species</th>\n",
       "      <th>Average Lifespan (Years)</th>\n",
       "      <th>Habitat</th>\n",
       "      <th>Conservation Status</th>\n",
       "    </tr>\n",
       "  </thead>\n",
       "  <tbody>\n",
       "    <tr>\n",
       "      <th>1</th>\n",
       "      <td>Bengal Tiger</td>\n",
       "      <td>15</td>\n",
       "      <td>Forests</td>\n",
       "      <td>Endangered</td>\n",
       "    </tr>\n",
       "    <tr>\n",
       "      <th>2</th>\n",
       "      <td>Blue Whale</td>\n",
       "      <td>80</td>\n",
       "      <td>Ocean</td>\n",
       "      <td>Endangered</td>\n",
       "    </tr>\n",
       "    <tr>\n",
       "      <th>9</th>\n",
       "      <td>Orangutan</td>\n",
       "      <td>35</td>\n",
       "      <td>Rainforests</td>\n",
       "      <td>Critically Endangered</td>\n",
       "    </tr>\n",
       "    <tr>\n",
       "      <th>13</th>\n",
       "      <td>Green Sea Turtle</td>\n",
       "      <td>80</td>\n",
       "      <td>Oceans, Beaches</td>\n",
       "      <td>Endangered</td>\n",
       "    </tr>\n",
       "  </tbody>\n",
       "</table>\n",
       "</div>"
      ],
      "text/plain": [
       "             Species  Average Lifespan (Years)          Habitat  \\\n",
       "1       Bengal Tiger                        15          Forests   \n",
       "2         Blue Whale                        80            Ocean   \n",
       "9          Orangutan                        35      Rainforests   \n",
       "13  Green Sea Turtle                        80  Oceans, Beaches   \n",
       "\n",
       "      Conservation Status  \n",
       "1              Endangered  \n",
       "2              Endangered  \n",
       "9   Critically Endangered  \n",
       "13             Endangered  "
      ]
     },
     "execution_count": 26,
     "metadata": {},
     "output_type": "execute_result"
    }
   ],
   "source": [
    "# Your solution here...\n",
    "\n",
    "Endangered_df = animal_df[animal_df['Conservation Status'].str.contains('Endangered')]\n",
    "\n",
    "Endangered_df"
   ]
  },
  {
   "cell_type": "markdown",
   "metadata": {},
   "source": [
    "### Exercise 5\n",
    "\n",
    "List the mean `Average Lifespan (Years)` of species for each `Habitat` in descending order."
   ]
  },
  {
   "cell_type": "code",
   "execution_count": 31,
   "metadata": {},
   "outputs": [
    {
     "data": {
      "application/vnd.microsoft.datawrangler.viewer.v0+json": {
       "columns": [
        {
         "name": "Habitat",
         "rawType": "object",
         "type": "string"
        },
        {
         "name": "Average Lifespan (Years)",
         "rawType": "float64",
         "type": "float"
        }
       ],
       "ref": "fc7c26d5-932b-41f2-b81f-0d11619726d4",
       "rows": [
        [
         "Oceans, Beaches",
         "80.0"
        ],
        [
         "Ocean",
         "80.0"
        ],
        [
         "Grasslands",
         "60.0"
        ],
        [
         "Rainforests",
         "35.0"
        ],
        [
         "Islands",
         "30.0"
        ],
        [
         "Arctic",
         "25.0"
        ],
        [
         "Antarctic",
         "20.0"
        ],
        [
         "Temperate Forest",
         "20.0"
        ],
        [
         "Forests, Seacoasts",
         "20.0"
        ],
        [
         "Forests",
         "15.0"
        ],
        [
         "Mountain Ranges",
         "15.0"
        ],
        [
         "Savanna",
         "14.0"
        ],
        [
         "Eucalyptus Forests",
         "13.0"
        ],
        [
         "Forests, Tundra",
         "8.0"
        ],
        [
         "Various",
         "5.0"
        ]
       ],
       "shape": {
        "columns": 1,
        "rows": 15
       }
      },
      "text/plain": [
       "Habitat\n",
       "Oceans, Beaches       80.0\n",
       "Ocean                 80.0\n",
       "Grasslands            60.0\n",
       "Rainforests           35.0\n",
       "Islands               30.0\n",
       "Arctic                25.0\n",
       "Antarctic             20.0\n",
       "Temperate Forest      20.0\n",
       "Forests, Seacoasts    20.0\n",
       "Forests               15.0\n",
       "Mountain Ranges       15.0\n",
       "Savanna               14.0\n",
       "Eucalyptus Forests    13.0\n",
       "Forests, Tundra        8.0\n",
       "Various                5.0\n",
       "Name: Average Lifespan (Years), dtype: float64"
      ]
     },
     "execution_count": 31,
     "metadata": {},
     "output_type": "execute_result"
    }
   ],
   "source": [
    "# Your solution here...\n",
    "\n",
    "animal_df.groupby('Habitat')['Average Lifespan (Years)'].mean().sort_values(ascending=False)"
   ]
  },
  {
   "cell_type": "markdown",
   "metadata": {},
   "source": [
    "### Exercise 6\n",
    "\n",
    "Create a column `Threat Level` that categorises species into `High`, `Medium`, or `Low` based on their `Conservation Status`: \n",
    "- **High** for `Critically Endangered` and `Endangered` \n",
    "- **Medium** for `Vulnerable` and `Near Threatened`\n",
    "- **Low** for `Least Concern`"
   ]
  },
  {
   "cell_type": "code",
   "execution_count": 30,
   "metadata": {},
   "outputs": [
    {
     "data": {
      "application/vnd.microsoft.datawrangler.viewer.v0+json": {
       "columns": [
        {
         "name": "index",
         "rawType": "int64",
         "type": "integer"
        },
        {
         "name": "Species",
         "rawType": "object",
         "type": "string"
        },
        {
         "name": "Average Lifespan (Years)",
         "rawType": "int64",
         "type": "integer"
        },
        {
         "name": "Habitat",
         "rawType": "object",
         "type": "string"
        },
        {
         "name": "Conservation Status",
         "rawType": "object",
         "type": "string"
        },
        {
         "name": "Threat Level",
         "rawType": "object",
         "type": "string"
        }
       ],
       "ref": "52d4b1a5-e8e5-47a9-9727-dd61bef6a640",
       "rows": [
        [
         "0",
         "African Elephant",
         "60",
         "Grasslands",
         "Vulnerable",
         "Medium"
        ],
        [
         "1",
         "Bengal Tiger",
         "15",
         "Forests",
         "Endangered",
         "High"
        ],
        [
         "2",
         "Blue Whale",
         "80",
         "Ocean",
         "Endangered",
         "High"
        ],
        [
         "3",
         "Giant Panda",
         "20",
         "Temperate Forest",
         "Vulnerable",
         "Medium"
        ],
        [
         "4",
         "Komodo Dragon",
         "30",
         "Islands",
         "Vulnerable",
         "Medium"
        ],
        [
         "5",
         "Polar Bear",
         "25",
         "Arctic",
         "Vulnerable",
         "Medium"
        ],
        [
         "6",
         "Red Fox",
         "5",
         "Various",
         "Least Concern",
         "Low"
        ],
        [
         "7",
         "Emperor Penguin",
         "20",
         "Antarctic",
         "Near Threatened",
         "Medium"
        ],
        [
         "8",
         "Koala",
         "13",
         "Eucalyptus Forests",
         "Vulnerable",
         "Medium"
        ],
        [
         "9",
         "Orangutan",
         "35",
         "Rainforests",
         "Critically Endangered",
         "High"
        ],
        [
         "10",
         "Snow Leopard",
         "15",
         "Mountain Ranges",
         "Vulnerable",
         "Medium"
        ],
        [
         "11",
         "Bald Eagle",
         "20",
         "Forests, Seacoasts",
         "Least Concern",
         "Low"
        ],
        [
         "12",
         "African Lion",
         "14",
         "Savanna",
         "Vulnerable",
         "Medium"
        ],
        [
         "13",
         "Green Sea Turtle",
         "80",
         "Oceans, Beaches",
         "Endangered",
         "High"
        ],
        [
         "14",
         "Gray Wolf",
         "8",
         "Forests, Tundra",
         "Least Concern",
         "Low"
        ]
       ],
       "shape": {
        "columns": 5,
        "rows": 15
       }
      },
      "text/html": [
       "<div>\n",
       "<style scoped>\n",
       "    .dataframe tbody tr th:only-of-type {\n",
       "        vertical-align: middle;\n",
       "    }\n",
       "\n",
       "    .dataframe tbody tr th {\n",
       "        vertical-align: top;\n",
       "    }\n",
       "\n",
       "    .dataframe thead th {\n",
       "        text-align: right;\n",
       "    }\n",
       "</style>\n",
       "<table border=\"1\" class=\"dataframe\">\n",
       "  <thead>\n",
       "    <tr style=\"text-align: right;\">\n",
       "      <th></th>\n",
       "      <th>Species</th>\n",
       "      <th>Average Lifespan (Years)</th>\n",
       "      <th>Habitat</th>\n",
       "      <th>Conservation Status</th>\n",
       "      <th>Threat Level</th>\n",
       "    </tr>\n",
       "  </thead>\n",
       "  <tbody>\n",
       "    <tr>\n",
       "      <th>0</th>\n",
       "      <td>African Elephant</td>\n",
       "      <td>60</td>\n",
       "      <td>Grasslands</td>\n",
       "      <td>Vulnerable</td>\n",
       "      <td>Medium</td>\n",
       "    </tr>\n",
       "    <tr>\n",
       "      <th>1</th>\n",
       "      <td>Bengal Tiger</td>\n",
       "      <td>15</td>\n",
       "      <td>Forests</td>\n",
       "      <td>Endangered</td>\n",
       "      <td>High</td>\n",
       "    </tr>\n",
       "    <tr>\n",
       "      <th>2</th>\n",
       "      <td>Blue Whale</td>\n",
       "      <td>80</td>\n",
       "      <td>Ocean</td>\n",
       "      <td>Endangered</td>\n",
       "      <td>High</td>\n",
       "    </tr>\n",
       "    <tr>\n",
       "      <th>3</th>\n",
       "      <td>Giant Panda</td>\n",
       "      <td>20</td>\n",
       "      <td>Temperate Forest</td>\n",
       "      <td>Vulnerable</td>\n",
       "      <td>Medium</td>\n",
       "    </tr>\n",
       "    <tr>\n",
       "      <th>4</th>\n",
       "      <td>Komodo Dragon</td>\n",
       "      <td>30</td>\n",
       "      <td>Islands</td>\n",
       "      <td>Vulnerable</td>\n",
       "      <td>Medium</td>\n",
       "    </tr>\n",
       "    <tr>\n",
       "      <th>5</th>\n",
       "      <td>Polar Bear</td>\n",
       "      <td>25</td>\n",
       "      <td>Arctic</td>\n",
       "      <td>Vulnerable</td>\n",
       "      <td>Medium</td>\n",
       "    </tr>\n",
       "    <tr>\n",
       "      <th>6</th>\n",
       "      <td>Red Fox</td>\n",
       "      <td>5</td>\n",
       "      <td>Various</td>\n",
       "      <td>Least Concern</td>\n",
       "      <td>Low</td>\n",
       "    </tr>\n",
       "    <tr>\n",
       "      <th>7</th>\n",
       "      <td>Emperor Penguin</td>\n",
       "      <td>20</td>\n",
       "      <td>Antarctic</td>\n",
       "      <td>Near Threatened</td>\n",
       "      <td>Medium</td>\n",
       "    </tr>\n",
       "    <tr>\n",
       "      <th>8</th>\n",
       "      <td>Koala</td>\n",
       "      <td>13</td>\n",
       "      <td>Eucalyptus Forests</td>\n",
       "      <td>Vulnerable</td>\n",
       "      <td>Medium</td>\n",
       "    </tr>\n",
       "    <tr>\n",
       "      <th>9</th>\n",
       "      <td>Orangutan</td>\n",
       "      <td>35</td>\n",
       "      <td>Rainforests</td>\n",
       "      <td>Critically Endangered</td>\n",
       "      <td>High</td>\n",
       "    </tr>\n",
       "    <tr>\n",
       "      <th>10</th>\n",
       "      <td>Snow Leopard</td>\n",
       "      <td>15</td>\n",
       "      <td>Mountain Ranges</td>\n",
       "      <td>Vulnerable</td>\n",
       "      <td>Medium</td>\n",
       "    </tr>\n",
       "    <tr>\n",
       "      <th>11</th>\n",
       "      <td>Bald Eagle</td>\n",
       "      <td>20</td>\n",
       "      <td>Forests, Seacoasts</td>\n",
       "      <td>Least Concern</td>\n",
       "      <td>Low</td>\n",
       "    </tr>\n",
       "    <tr>\n",
       "      <th>12</th>\n",
       "      <td>African Lion</td>\n",
       "      <td>14</td>\n",
       "      <td>Savanna</td>\n",
       "      <td>Vulnerable</td>\n",
       "      <td>Medium</td>\n",
       "    </tr>\n",
       "    <tr>\n",
       "      <th>13</th>\n",
       "      <td>Green Sea Turtle</td>\n",
       "      <td>80</td>\n",
       "      <td>Oceans, Beaches</td>\n",
       "      <td>Endangered</td>\n",
       "      <td>High</td>\n",
       "    </tr>\n",
       "    <tr>\n",
       "      <th>14</th>\n",
       "      <td>Gray Wolf</td>\n",
       "      <td>8</td>\n",
       "      <td>Forests, Tundra</td>\n",
       "      <td>Least Concern</td>\n",
       "      <td>Low</td>\n",
       "    </tr>\n",
       "  </tbody>\n",
       "</table>\n",
       "</div>"
      ],
      "text/plain": [
       "             Species  Average Lifespan (Years)             Habitat  \\\n",
       "0   African Elephant                        60          Grasslands   \n",
       "1       Bengal Tiger                        15             Forests   \n",
       "2         Blue Whale                        80               Ocean   \n",
       "3        Giant Panda                        20    Temperate Forest   \n",
       "4      Komodo Dragon                        30             Islands   \n",
       "5         Polar Bear                        25              Arctic   \n",
       "6            Red Fox                         5             Various   \n",
       "7    Emperor Penguin                        20           Antarctic   \n",
       "8              Koala                        13  Eucalyptus Forests   \n",
       "9          Orangutan                        35         Rainforests   \n",
       "10      Snow Leopard                        15     Mountain Ranges   \n",
       "11        Bald Eagle                        20  Forests, Seacoasts   \n",
       "12      African Lion                        14             Savanna   \n",
       "13  Green Sea Turtle                        80     Oceans, Beaches   \n",
       "14         Gray Wolf                         8     Forests, Tundra   \n",
       "\n",
       "      Conservation Status Threat Level  \n",
       "0              Vulnerable       Medium  \n",
       "1              Endangered         High  \n",
       "2              Endangered         High  \n",
       "3              Vulnerable       Medium  \n",
       "4              Vulnerable       Medium  \n",
       "5              Vulnerable       Medium  \n",
       "6           Least Concern          Low  \n",
       "7         Near Threatened       Medium  \n",
       "8              Vulnerable       Medium  \n",
       "9   Critically Endangered         High  \n",
       "10             Vulnerable       Medium  \n",
       "11          Least Concern          Low  \n",
       "12             Vulnerable       Medium  \n",
       "13             Endangered         High  \n",
       "14          Least Concern          Low  "
      ]
     },
     "execution_count": 30,
     "metadata": {},
     "output_type": "execute_result"
    }
   ],
   "source": [
    "# Your solution here...\n",
    "\n",
    "# Function to categorise species based on their conservation status.\n",
    "def categorise_threat(status):\n",
    "    if status in ['Critically Endangered', 'Endangered']:\n",
    "        return 'High'\n",
    "    elif status in ['Vulnerable', 'Near Threatened']:\n",
    "        return 'Medium'\n",
    "    else:\n",
    "        return 'Low'\n",
    "# Apply the 'categorise_threat' function to the 'Conservation Status' column\n",
    "animal_df['Threat Level'] = animal_df['Conservation Status'].apply(categorise_threat)\n",
    "\n",
    "animal_df"
   ]
  },
  {
   "cell_type": "markdown",
   "metadata": {},
   "source": [
    "<div align=\"center\" style=\" font-size: 80%; text-align: center; margin: 0 auto\">\n",
    "<img src=\"https://raw.githubusercontent.com/Explore-AI/Pictures/refs/heads/master/ALX_banners/ALX_Navy.png\"  style=\"width:140px\";/>\n",
    "</div>"
   ]
  }
 ],
 "metadata": {
  "colab": {
   "authorship_tag": "ABX9TyPZFCZhaikX+N2/Bg7W6SY+",
   "collapsed_sections": [],
   "name": "Search_algorithms.ipynb",
   "provenance": [],
   "toc_visible": true
  },
  "kernelspec": {
   "display_name": "SQL_root",
   "language": "python",
   "name": "python3"
  },
  "language_info": {
   "codemirror_mode": {
    "name": "ipython",
    "version": 3
   },
   "file_extension": ".py",
   "mimetype": "text/x-python",
   "name": "python",
   "nbconvert_exporter": "python",
   "pygments_lexer": "ipython3",
   "version": "3.12.9"
  }
 },
 "nbformat": 4,
 "nbformat_minor": 2
}
