{
 "cells": [
  {
   "cell_type": "markdown",
   "metadata": {},
   "source": [
    "<div align=\"center\" style=\" font-size: 80%; text-align: center; margin: 0 auto\">\n",
    "<img src=\"https://raw.githubusercontent.com/Explore-AI/Pictures/master/Python-Notebook-Banners/Examples.png\"  style=\"display: block; margin-left: auto; margin-right: auto;\";/>\n",
    "</div>"
   ]
  },
  {
   "cell_type": "markdown",
   "metadata": {},
   "source": [
    "# Examples: Introduction to Pandas\n"
   ]
  },
  {
   "cell_type": "markdown",
   "metadata": {},
   "source": [
    "In this train, we will look at the Pandas package, and its key data structure, DataFrames, which is commonly used for data analysis in Python. We will define what a Pandas DataFrame is, show how to create DataFrames, and how to access them."
   ]
  },
  {
   "cell_type": "markdown",
   "metadata": {},
   "source": [
    "## Learning objectives\n",
    "* Understand what Pandas is and how DataFrames are used in Python to handle data.\n",
    "* Know how to load, manipulate, and analyse data using Pandas."
   ]
  },
  {
   "cell_type": "markdown",
   "metadata": {},
   "source": [
    "Pandas is a tool, built on the NumPy package, that allows us to work with data. It has functions for analysing, cleaning, exploring, and manipulating data.\n",
    "\n",
    "### What is a Pandas DataFrame?\n",
    "Pandas' key data structure is the `DataFrame`. A DataFrame allows for the storage and manipulation of tabular data. It is a two-dimensional labelled data structure. \n",
    "\n",
    "<img src=\"https://raw.githubusercontent.com/Explore-AI/Pictures/master/Pandas_dataframe.jpg\" width=\"700\">\n",
    "\n",
    "Basically, we could say that the Pandas DataFrame consists of three main components: the data, index, and columns. Let's walk through some examples to gain an understanding of these components."
   ]
  },
  {
   "cell_type": "markdown",
   "metadata": {},
   "source": [
    "#### Creating a DataFrame\n",
    "We can create a DataFrame by calling the `DataFrame()` constructor. The main arguments in the constructor are the data, index, and columns. The data that are passed in can be in the form of other data structures (lists, dictionaries, or NumPy arrays) or by loading in a file. Pandas is particularly useful for handling structured data, like CSV or Excel files.\n",
    "\n",
    "Let's start by first importing the Pandas library:"
   ]
  },
  {
   "cell_type": "code",
   "execution_count": 1,
   "metadata": {
    "collapsed": true,
    "jupyter": {
     "outputs_hidden": true
    }
   },
   "outputs": [],
   "source": [
    "import pandas as pd"
   ]
  },
  {
   "cell_type": "markdown",
   "metadata": {},
   "source": [
    "### Example 1\n",
    "\n",
    "Creating a DataFrame from a **list** of lists: Here each inner list represents a row of data, and the outer list contains all the rows. By providing an optional index and specifying column names, we can organise the data into a structured two-dimensional table. Note that if we don't explicitly pass in an index, it would be automatically generated, starting at 0."
   ]
  },
  {
   "cell_type": "code",
   "execution_count": 2,
   "metadata": {},
   "outputs": [
    {
     "data": {
      "application/vnd.microsoft.datawrangler.viewer.v0+json": {
       "columns": [
        {
         "name": "index",
         "rawType": "object",
         "type": "string"
        },
        {
         "name": "Age",
         "rawType": "int64",
         "type": "integer"
        },
        {
         "name": "Nationality",
         "rawType": "object",
         "type": "string"
        },
        {
         "name": "Overall",
         "rawType": "int64",
         "type": "integer"
        }
       ],
       "ref": "9f8f319e-4d01-456e-86c9-2742b44fbb76",
       "rows": [
        [
         "Christiano Ronaldo",
         "32",
         "Portugal",
         "94"
        ],
        [
         "Lionel Messi",
         "30",
         "Argentina",
         "93"
        ],
        [
         "Neymar",
         "25",
         "Brazil",
         "92"
        ]
       ],
       "shape": {
        "columns": 3,
        "rows": 3
       }
      },
      "text/html": [
       "<div>\n",
       "<style scoped>\n",
       "    .dataframe tbody tr th:only-of-type {\n",
       "        vertical-align: middle;\n",
       "    }\n",
       "\n",
       "    .dataframe tbody tr th {\n",
       "        vertical-align: top;\n",
       "    }\n",
       "\n",
       "    .dataframe thead th {\n",
       "        text-align: right;\n",
       "    }\n",
       "</style>\n",
       "<table border=\"1\" class=\"dataframe\">\n",
       "  <thead>\n",
       "    <tr style=\"text-align: right;\">\n",
       "      <th></th>\n",
       "      <th>Age</th>\n",
       "      <th>Nationality</th>\n",
       "      <th>Overall</th>\n",
       "    </tr>\n",
       "  </thead>\n",
       "  <tbody>\n",
       "    <tr>\n",
       "      <th>Christiano Ronaldo</th>\n",
       "      <td>32</td>\n",
       "      <td>Portugal</td>\n",
       "      <td>94</td>\n",
       "    </tr>\n",
       "    <tr>\n",
       "      <th>Lionel Messi</th>\n",
       "      <td>30</td>\n",
       "      <td>Argentina</td>\n",
       "      <td>93</td>\n",
       "    </tr>\n",
       "    <tr>\n",
       "      <th>Neymar</th>\n",
       "      <td>25</td>\n",
       "      <td>Brazil</td>\n",
       "      <td>92</td>\n",
       "    </tr>\n",
       "  </tbody>\n",
       "</table>\n",
       "</div>"
      ],
      "text/plain": [
       "                    Age Nationality  Overall\n",
       "Christiano Ronaldo   32    Portugal       94\n",
       "Lionel Messi         30   Argentina       93\n",
       "Neymar               25      Brazil       92"
      ]
     },
     "execution_count": 2,
     "metadata": {},
     "output_type": "execute_result"
    }
   ],
   "source": [
    "# Create list of lists containing data.\n",
    "list_df = [[32, 'Portugal', 94], [30, 'Argentina', 93], [25 , 'Brazil', 92]]\n",
    "\n",
    "# Create index – names of players.\n",
    "index = ['Christiano Ronaldo', 'Lionel Messi', 'Neymar']\n",
    "\n",
    "# Create column names.\n",
    "columns = ['Age', 'Nationality', 'Overall']\n",
    "\n",
    "# Create a DataFrame by passing in data, index, and columns.\n",
    "pd.DataFrame(data=list_df, index=index, columns=columns)"
   ]
  },
  {
   "cell_type": "markdown",
   "metadata": {},
   "source": [
    "### Example 2\n",
    "\n",
    "We can also create a DataFrame from a **dictionary**. The dictionary keys should be the column names, while the values should be the data entries for that column. We can also pass in an index, if we want to. Note that because the keys account for the column names, we don't have to pass in an argument for columns."
   ]
  },
  {
   "cell_type": "code",
   "execution_count": 3,
   "metadata": {},
   "outputs": [
    {
     "data": {
      "application/vnd.microsoft.datawrangler.viewer.v0+json": {
       "columns": [
        {
         "name": "index",
         "rawType": "object",
         "type": "string"
        },
        {
         "name": "Age",
         "rawType": "int64",
         "type": "integer"
        },
        {
         "name": "Nationality",
         "rawType": "object",
         "type": "string"
        },
        {
         "name": "Overall",
         "rawType": "int64",
         "type": "integer"
        }
       ],
       "ref": "c666f622-b9d4-4f29-a5aa-5f4958817d0f",
       "rows": [
        [
         "Christiano Ronaldo",
         "32",
         "Portugal",
         "94"
        ],
        [
         "Lionel Messi",
         "30",
         "Argentina",
         "93"
        ],
        [
         "Neymar",
         "25",
         "Brazil",
         "92"
        ]
       ],
       "shape": {
        "columns": 3,
        "rows": 3
       }
      },
      "text/html": [
       "<div>\n",
       "<style scoped>\n",
       "    .dataframe tbody tr th:only-of-type {\n",
       "        vertical-align: middle;\n",
       "    }\n",
       "\n",
       "    .dataframe tbody tr th {\n",
       "        vertical-align: top;\n",
       "    }\n",
       "\n",
       "    .dataframe thead th {\n",
       "        text-align: right;\n",
       "    }\n",
       "</style>\n",
       "<table border=\"1\" class=\"dataframe\">\n",
       "  <thead>\n",
       "    <tr style=\"text-align: right;\">\n",
       "      <th></th>\n",
       "      <th>Age</th>\n",
       "      <th>Nationality</th>\n",
       "      <th>Overall</th>\n",
       "    </tr>\n",
       "  </thead>\n",
       "  <tbody>\n",
       "    <tr>\n",
       "      <th>Christiano Ronaldo</th>\n",
       "      <td>32</td>\n",
       "      <td>Portugal</td>\n",
       "      <td>94</td>\n",
       "    </tr>\n",
       "    <tr>\n",
       "      <th>Lionel Messi</th>\n",
       "      <td>30</td>\n",
       "      <td>Argentina</td>\n",
       "      <td>93</td>\n",
       "    </tr>\n",
       "    <tr>\n",
       "      <th>Neymar</th>\n",
       "      <td>25</td>\n",
       "      <td>Brazil</td>\n",
       "      <td>92</td>\n",
       "    </tr>\n",
       "  </tbody>\n",
       "</table>\n",
       "</div>"
      ],
      "text/plain": [
       "                    Age Nationality  Overall\n",
       "Christiano Ronaldo   32    Portugal       94\n",
       "Lionel Messi         30   Argentina       93\n",
       "Neymar               25      Brazil       92"
      ]
     },
     "execution_count": 3,
     "metadata": {},
     "output_type": "execute_result"
    }
   ],
   "source": [
    "# Create dictionary containing data.\n",
    "dict_df = {'Age':[32, 30, 25], 'Nationality':['Portugal', 'Argentina', 'Brazil'], 'Overall':[94, 93, 92]}\n",
    "\n",
    "# Create index – names of players.\n",
    "index = ['Christiano Ronaldo', 'Lionel Messi', 'Neymar']\n",
    "\n",
    "# Create a DataFrame by passing in data, index, and columns.\n",
    "pd.DataFrame(data=dict_df, index=index)"
   ]
  },
  {
   "cell_type": "markdown",
   "metadata": {},
   "source": [
    "### Example 3\n",
    "\n",
    "If the data are stored in **NumPy arrays**, we can also use that to generate a Pandas DataFrame. We pass the data, then the column names, and an index (player names), if required.\n",
    "\n",
    "When creating a DataFrame from a NumPy array, the data types of the array elements should be consistent for **each column**. This is because Pandas DataFrames, like NumPy arrays, prefer homogeneity within each column for optimal performance."
   ]
  },
  {
   "cell_type": "code",
   "execution_count": 6,
   "metadata": {},
   "outputs": [
    {
     "data": {
      "application/vnd.microsoft.datawrangler.viewer.v0+json": {
       "columns": [
        {
         "name": "index",
         "rawType": "object",
         "type": "string"
        },
        {
         "name": "Age",
         "rawType": "object",
         "type": "string"
        },
        {
         "name": "Nationality",
         "rawType": "object",
         "type": "string"
        },
        {
         "name": "Overall",
         "rawType": "object",
         "type": "string"
        }
       ],
       "ref": "16f5c763-cb90-49d2-a8a0-735c817c57ef",
       "rows": [
        [
         "Christiano Ronaldo",
         "32",
         "Portugal",
         "94"
        ],
        [
         "Lionel Messi",
         "30",
         "Argentina",
         "93"
        ],
        [
         "Neymar",
         "25",
         "Brazil",
         "92"
        ]
       ],
       "shape": {
        "columns": 3,
        "rows": 3
       }
      },
      "text/html": [
       "<div>\n",
       "<style scoped>\n",
       "    .dataframe tbody tr th:only-of-type {\n",
       "        vertical-align: middle;\n",
       "    }\n",
       "\n",
       "    .dataframe tbody tr th {\n",
       "        vertical-align: top;\n",
       "    }\n",
       "\n",
       "    .dataframe thead th {\n",
       "        text-align: right;\n",
       "    }\n",
       "</style>\n",
       "<table border=\"1\" class=\"dataframe\">\n",
       "  <thead>\n",
       "    <tr style=\"text-align: right;\">\n",
       "      <th></th>\n",
       "      <th>Age</th>\n",
       "      <th>Nationality</th>\n",
       "      <th>Overall</th>\n",
       "    </tr>\n",
       "  </thead>\n",
       "  <tbody>\n",
       "    <tr>\n",
       "      <th>Christiano Ronaldo</th>\n",
       "      <td>32</td>\n",
       "      <td>Portugal</td>\n",
       "      <td>94</td>\n",
       "    </tr>\n",
       "    <tr>\n",
       "      <th>Lionel Messi</th>\n",
       "      <td>30</td>\n",
       "      <td>Argentina</td>\n",
       "      <td>93</td>\n",
       "    </tr>\n",
       "    <tr>\n",
       "      <th>Neymar</th>\n",
       "      <td>25</td>\n",
       "      <td>Brazil</td>\n",
       "      <td>92</td>\n",
       "    </tr>\n",
       "  </tbody>\n",
       "</table>\n",
       "</div>"
      ],
      "text/plain": [
       "                   Age Nationality Overall\n",
       "Christiano Ronaldo  32    Portugal      94\n",
       "Lionel Messi        30   Argentina      93\n",
       "Neymar              25      Brazil      92"
      ]
     },
     "execution_count": 6,
     "metadata": {},
     "output_type": "execute_result"
    }
   ],
   "source": [
    "import numpy as np\n",
    "\n",
    "# Create NumPy array containing data.\n",
    "array_df = np.array([[32, 'Portugal', 94], [30, 'Argentina', 93], [25 , 'Brazil', 92]])\n",
    "\n",
    "# Create index – names of players.\n",
    "index = ['Christiano Ronaldo', 'Lionel Messi', 'Neymar']\n",
    "\n",
    "# Create column names.\n",
    "columns = ['Age', 'Nationality', 'Overall']\n",
    "\n",
    "# Create a DataFrame by passing in data, index, and columns.\n",
    "pd.DataFrame(data=array_df, index=index, columns=columns)"
   ]
  },
  {
   "cell_type": "markdown",
   "metadata": {},
   "source": [
    "#### DataFrames from other files\n",
    "The data argument can also be a loaded file. Pandas has the ability to read various file formats, such as CSV, Excel, JSON, etc."
   ]
  },
  {
   "cell_type": "markdown",
   "metadata": {},
   "source": [
    "### Example 4\n",
    "\n",
    " We will load the full csv file. Pandas make it very easy to do this; we simply load the data using the `read_csv()` function and pass in the full path of the file as a string.\n",
    "\n",
    "Pandas will use the first row as columns so we don't need to pass column names. We can also specify the index when we load the data by passing our index column as a string under the index_col argument. Remember to always check whether there are any warnings in the loaded data – in this case there seems to be different data types in some columns.\n",
    "\n",
    "To check our data has loaded as we expected, we can use the `head()` function. This will return the first five records of our data. This is helpful if the DataFrame has many rows and loading it will take lots of time."
   ]
  },
  {
   "cell_type": "code",
   "execution_count": 7,
   "metadata": {},
   "outputs": [
    {
     "name": "stderr",
     "output_type": "stream",
     "text": [
      "/var/folders/gq/cw_91ncx0gb177d2wx2pv7km0000gn/T/ipykernel_95337/1486960575.py:3: DtypeWarning: Columns (14,26) have mixed types. Specify dtype option on import or set low_memory=False.\n",
      "  load_df = pd.read_csv('https://raw.githubusercontent.com/Explore-AI/Public-Data/master/Data/fundamentals/football_players.csv', index_col='Name')\n"
     ]
    },
    {
     "data": {
      "application/vnd.microsoft.datawrangler.viewer.v0+json": {
       "columns": [
        {
         "name": "Name",
         "rawType": "object",
         "type": "string"
        },
        {
         "name": "Age",
         "rawType": "int64",
         "type": "integer"
        },
        {
         "name": "Nationality",
         "rawType": "object",
         "type": "string"
        },
        {
         "name": "Overall",
         "rawType": "int64",
         "type": "integer"
        },
        {
         "name": "Acceleration",
         "rawType": "object",
         "type": "string"
        },
        {
         "name": "Aggression",
         "rawType": "object",
         "type": "string"
        },
        {
         "name": "Agility",
         "rawType": "object",
         "type": "string"
        },
        {
         "name": "Balance",
         "rawType": "object",
         "type": "string"
        },
        {
         "name": "Ball control",
         "rawType": "object",
         "type": "string"
        },
        {
         "name": "Composure",
         "rawType": "object",
         "type": "string"
        },
        {
         "name": "Crossing",
         "rawType": "object",
         "type": "string"
        },
        {
         "name": "Curve",
         "rawType": "object",
         "type": "string"
        },
        {
         "name": "Dribbling",
         "rawType": "object",
         "type": "string"
        },
        {
         "name": "Finishing",
         "rawType": "object",
         "type": "string"
        },
        {
         "name": "Free kick accuracy",
         "rawType": "object",
         "type": "string"
        },
        {
         "name": "GK diving",
         "rawType": "object",
         "type": "string"
        },
        {
         "name": "GK handling",
         "rawType": "object",
         "type": "string"
        },
        {
         "name": "GK kicking",
         "rawType": "object",
         "type": "string"
        },
        {
         "name": "GK positioning",
         "rawType": "object",
         "type": "string"
        },
        {
         "name": "GK reflexes",
         "rawType": "object",
         "type": "string"
        },
        {
         "name": "Heading accuracy",
         "rawType": "object",
         "type": "string"
        },
        {
         "name": "Interceptions",
         "rawType": "object",
         "type": "string"
        },
        {
         "name": "Jumping",
         "rawType": "object",
         "type": "string"
        },
        {
         "name": "Long passing",
         "rawType": "object",
         "type": "string"
        },
        {
         "name": "Long shots",
         "rawType": "object",
         "type": "string"
        },
        {
         "name": "Marking",
         "rawType": "object",
         "type": "string"
        },
        {
         "name": "Penalties",
         "rawType": "object",
         "type": "string"
        },
        {
         "name": "Positioning",
         "rawType": "object",
         "type": "string"
        },
        {
         "name": "Reactions",
         "rawType": "object",
         "type": "string"
        },
        {
         "name": "Short passing",
         "rawType": "object",
         "type": "string"
        },
        {
         "name": "Shot power",
         "rawType": "object",
         "type": "string"
        },
        {
         "name": "Sliding tackle",
         "rawType": "object",
         "type": "string"
        },
        {
         "name": "Sprint speed",
         "rawType": "object",
         "type": "string"
        },
        {
         "name": "Stamina",
         "rawType": "object",
         "type": "string"
        },
        {
         "name": "Standing tackle",
         "rawType": "object",
         "type": "string"
        },
        {
         "name": "Strength",
         "rawType": "object",
         "type": "string"
        },
        {
         "name": "Vision",
         "rawType": "object",
         "type": "string"
        },
        {
         "name": "Volleys",
         "rawType": "object",
         "type": "string"
        },
        {
         "name": "Preferred Positions",
         "rawType": "object",
         "type": "string"
        }
       ],
       "ref": "45ad4d65-757a-46fe-90ba-52896ac26ec2",
       "rows": [
        [
         "Cristiano Ronaldo",
         "32",
         "Portugal",
         "94",
         "89    ",
         "63    ",
         "89    ",
         "63    ",
         "93    ",
         "95    ",
         "85    ",
         "81    ",
         "91    ",
         "94    ",
         "76    ",
         "7    ",
         "11    ",
         "15    ",
         "14    ",
         "11    ",
         "88    ",
         "29    ",
         "95    ",
         "77    ",
         "92    ",
         "22    ",
         "85    ",
         "95    ",
         "96    ",
         "83    ",
         "94    ",
         "23    ",
         "91    ",
         "92    ",
         "31    ",
         "80    ",
         "85    ",
         "88    ",
         "ST LW "
        ],
        [
         "L. Messi",
         "30",
         "Argentina",
         "93",
         "92    ",
         "48    ",
         "90    ",
         "95    ",
         "95    ",
         "96    ",
         "77    ",
         "89    ",
         "97    ",
         "95    ",
         "90    ",
         "6    ",
         "11    ",
         "15    ",
         "14    ",
         "8    ",
         "71    ",
         "22    ",
         "68    ",
         "87    ",
         "88    ",
         "13    ",
         "74    ",
         "93    ",
         "95    ",
         "88    ",
         "85    ",
         "26    ",
         "87    ",
         "73    ",
         "28    ",
         "59    ",
         "90    ",
         "85    ",
         "RW "
        ],
        [
         "Neymar",
         "25",
         "Brazil",
         "92",
         "94    ",
         "56    ",
         "96    ",
         "82    ",
         "95    ",
         "92    ",
         "75    ",
         "81    ",
         "96    ",
         "89    ",
         "84    ",
         "9    ",
         "9    ",
         "15    ",
         "15    ",
         "11    ",
         "62    ",
         "36    ",
         "61    ",
         "75    ",
         "77    ",
         "21    ",
         "81    ",
         "90    ",
         "88    ",
         "81    ",
         "80    ",
         "33    ",
         "90    ",
         "78    ",
         "24    ",
         "53    ",
         "80    ",
         "83    ",
         "LW "
        ],
        [
         "L. Suárez",
         "30",
         "Uruguay",
         "92",
         "88    ",
         "78    ",
         "86    ",
         "60    ",
         "91    ",
         "83    ",
         "77    ",
         "86    ",
         "86    ",
         "94    ",
         "84    ",
         "27    ",
         "25    ",
         "31    ",
         "33    ",
         "37    ",
         "77    ",
         "41    ",
         "69    ",
         "64    ",
         "86    ",
         "30    ",
         "85    ",
         "92    ",
         "93    ",
         "83    ",
         "87    ",
         "38    ",
         "77    ",
         "89    ",
         "45    ",
         "80    ",
         "84    ",
         "88    ",
         "ST "
        ],
        [
         "M. Neuer",
         "31",
         "Germany",
         "92",
         "58    ",
         "29    ",
         "52    ",
         "35    ",
         "48    ",
         "70    ",
         "15    ",
         "14    ",
         "30    ",
         "13    ",
         "11    ",
         "91    ",
         "90    ",
         "95    ",
         "91    ",
         "89    ",
         "25    ",
         "30    ",
         "78    ",
         "59    ",
         "16    ",
         "10    ",
         "47    ",
         "12    ",
         "85    ",
         "55    ",
         "25    ",
         "11    ",
         "61    ",
         "44    ",
         "10    ",
         "83    ",
         "70    ",
         "11    ",
         "GK "
        ]
       ],
       "shape": {
        "columns": 38,
        "rows": 5
       }
      },
      "text/html": [
       "<div>\n",
       "<style scoped>\n",
       "    .dataframe tbody tr th:only-of-type {\n",
       "        vertical-align: middle;\n",
       "    }\n",
       "\n",
       "    .dataframe tbody tr th {\n",
       "        vertical-align: top;\n",
       "    }\n",
       "\n",
       "    .dataframe thead th {\n",
       "        text-align: right;\n",
       "    }\n",
       "</style>\n",
       "<table border=\"1\" class=\"dataframe\">\n",
       "  <thead>\n",
       "    <tr style=\"text-align: right;\">\n",
       "      <th></th>\n",
       "      <th>Age</th>\n",
       "      <th>Nationality</th>\n",
       "      <th>Overall</th>\n",
       "      <th>Acceleration</th>\n",
       "      <th>Aggression</th>\n",
       "      <th>Agility</th>\n",
       "      <th>Balance</th>\n",
       "      <th>Ball control</th>\n",
       "      <th>Composure</th>\n",
       "      <th>Crossing</th>\n",
       "      <th>...</th>\n",
       "      <th>Short passing</th>\n",
       "      <th>Shot power</th>\n",
       "      <th>Sliding tackle</th>\n",
       "      <th>Sprint speed</th>\n",
       "      <th>Stamina</th>\n",
       "      <th>Standing tackle</th>\n",
       "      <th>Strength</th>\n",
       "      <th>Vision</th>\n",
       "      <th>Volleys</th>\n",
       "      <th>Preferred Positions</th>\n",
       "    </tr>\n",
       "    <tr>\n",
       "      <th>Name</th>\n",
       "      <th></th>\n",
       "      <th></th>\n",
       "      <th></th>\n",
       "      <th></th>\n",
       "      <th></th>\n",
       "      <th></th>\n",
       "      <th></th>\n",
       "      <th></th>\n",
       "      <th></th>\n",
       "      <th></th>\n",
       "      <th></th>\n",
       "      <th></th>\n",
       "      <th></th>\n",
       "      <th></th>\n",
       "      <th></th>\n",
       "      <th></th>\n",
       "      <th></th>\n",
       "      <th></th>\n",
       "      <th></th>\n",
       "      <th></th>\n",
       "      <th></th>\n",
       "    </tr>\n",
       "  </thead>\n",
       "  <tbody>\n",
       "    <tr>\n",
       "      <th>Cristiano Ronaldo</th>\n",
       "      <td>32</td>\n",
       "      <td>Portugal</td>\n",
       "      <td>94</td>\n",
       "      <td>89</td>\n",
       "      <td>63</td>\n",
       "      <td>89</td>\n",
       "      <td>63</td>\n",
       "      <td>93</td>\n",
       "      <td>95</td>\n",
       "      <td>85</td>\n",
       "      <td>...</td>\n",
       "      <td>83</td>\n",
       "      <td>94</td>\n",
       "      <td>23</td>\n",
       "      <td>91</td>\n",
       "      <td>92</td>\n",
       "      <td>31</td>\n",
       "      <td>80</td>\n",
       "      <td>85</td>\n",
       "      <td>88</td>\n",
       "      <td>ST LW</td>\n",
       "    </tr>\n",
       "    <tr>\n",
       "      <th>L. Messi</th>\n",
       "      <td>30</td>\n",
       "      <td>Argentina</td>\n",
       "      <td>93</td>\n",
       "      <td>92</td>\n",
       "      <td>48</td>\n",
       "      <td>90</td>\n",
       "      <td>95</td>\n",
       "      <td>95</td>\n",
       "      <td>96</td>\n",
       "      <td>77</td>\n",
       "      <td>...</td>\n",
       "      <td>88</td>\n",
       "      <td>85</td>\n",
       "      <td>26</td>\n",
       "      <td>87</td>\n",
       "      <td>73</td>\n",
       "      <td>28</td>\n",
       "      <td>59</td>\n",
       "      <td>90</td>\n",
       "      <td>85</td>\n",
       "      <td>RW</td>\n",
       "    </tr>\n",
       "    <tr>\n",
       "      <th>Neymar</th>\n",
       "      <td>25</td>\n",
       "      <td>Brazil</td>\n",
       "      <td>92</td>\n",
       "      <td>94</td>\n",
       "      <td>56</td>\n",
       "      <td>96</td>\n",
       "      <td>82</td>\n",
       "      <td>95</td>\n",
       "      <td>92</td>\n",
       "      <td>75</td>\n",
       "      <td>...</td>\n",
       "      <td>81</td>\n",
       "      <td>80</td>\n",
       "      <td>33</td>\n",
       "      <td>90</td>\n",
       "      <td>78</td>\n",
       "      <td>24</td>\n",
       "      <td>53</td>\n",
       "      <td>80</td>\n",
       "      <td>83</td>\n",
       "      <td>LW</td>\n",
       "    </tr>\n",
       "    <tr>\n",
       "      <th>L. Suárez</th>\n",
       "      <td>30</td>\n",
       "      <td>Uruguay</td>\n",
       "      <td>92</td>\n",
       "      <td>88</td>\n",
       "      <td>78</td>\n",
       "      <td>86</td>\n",
       "      <td>60</td>\n",
       "      <td>91</td>\n",
       "      <td>83</td>\n",
       "      <td>77</td>\n",
       "      <td>...</td>\n",
       "      <td>83</td>\n",
       "      <td>87</td>\n",
       "      <td>38</td>\n",
       "      <td>77</td>\n",
       "      <td>89</td>\n",
       "      <td>45</td>\n",
       "      <td>80</td>\n",
       "      <td>84</td>\n",
       "      <td>88</td>\n",
       "      <td>ST</td>\n",
       "    </tr>\n",
       "    <tr>\n",
       "      <th>M. Neuer</th>\n",
       "      <td>31</td>\n",
       "      <td>Germany</td>\n",
       "      <td>92</td>\n",
       "      <td>58</td>\n",
       "      <td>29</td>\n",
       "      <td>52</td>\n",
       "      <td>35</td>\n",
       "      <td>48</td>\n",
       "      <td>70</td>\n",
       "      <td>15</td>\n",
       "      <td>...</td>\n",
       "      <td>55</td>\n",
       "      <td>25</td>\n",
       "      <td>11</td>\n",
       "      <td>61</td>\n",
       "      <td>44</td>\n",
       "      <td>10</td>\n",
       "      <td>83</td>\n",
       "      <td>70</td>\n",
       "      <td>11</td>\n",
       "      <td>GK</td>\n",
       "    </tr>\n",
       "  </tbody>\n",
       "</table>\n",
       "<p>5 rows × 38 columns</p>\n",
       "</div>"
      ],
      "text/plain": [
       "                   Age Nationality  Overall Acceleration Aggression Agility  \\\n",
       "Name                                                                          \n",
       "Cristiano Ronaldo   32    Portugal       94       89         63      89       \n",
       "L. Messi            30   Argentina       93       92         48      90       \n",
       "Neymar              25      Brazil       92       94         56      96       \n",
       "L. Suárez           30     Uruguay       92       88         78      86       \n",
       "M. Neuer            31     Germany       92       58         29      52       \n",
       "\n",
       "                  Balance Ball control Composure Crossing  ... Short passing  \\\n",
       "Name                                                       ...                 \n",
       "Cristiano Ronaldo  63           93        95       85      ...        83       \n",
       "L. Messi           95           95        96       77      ...        88       \n",
       "Neymar             82           95        92       75      ...        81       \n",
       "L. Suárez          60           91        83       77      ...        83       \n",
       "M. Neuer           35           48        70       15      ...        55       \n",
       "\n",
       "                  Shot power Sliding tackle Sprint speed Stamina  \\\n",
       "Name                                                               \n",
       "Cristiano Ronaldo     94             23           91      92       \n",
       "L. Messi              85             26           87      73       \n",
       "Neymar                80             33           90      78       \n",
       "L. Suárez             87             38           77      89       \n",
       "M. Neuer              25             11           61      44       \n",
       "\n",
       "                  Standing tackle Strength  Vision Volleys Preferred Positions  \n",
       "Name                                                                            \n",
       "Cristiano Ronaldo          31       80      85      88                  ST LW   \n",
       "L. Messi                   28       59      90      85                     RW   \n",
       "Neymar                     24       53      80      83                     LW   \n",
       "L. Suárez                  45       80      84      88                     ST   \n",
       "M. Neuer                   10       83      70      11                     GK   \n",
       "\n",
       "[5 rows x 38 columns]"
      ]
     },
     "execution_count": 7,
     "metadata": {},
     "output_type": "execute_result"
    }
   ],
   "source": [
    "# Load data – pass 'Name' as our index column.\n",
    "# For this exercise, we'll use football player data to evaluate our DataFrame.\n",
    "load_df = pd.read_csv('https://raw.githubusercontent.com/Explore-AI/Public-Data/master/Data/fundamentals/football_players.csv', index_col='Name')\n",
    "\n",
    "# Create a DataFrame called df.\n",
    "df = pd.DataFrame(load_df)\n",
    "\n",
    "# Use the head() function to look at the first 5 rows.\n",
    "df.head()"
   ]
  },
  {
   "cell_type": "markdown",
   "metadata": {},
   "source": [
    "### Accessing DataFrames\n",
    "\n",
    "Accessing data within DataFrames is not as straightforward as with the previous data structures. This can be done by index, by column, or by both. Let's work through these methods."
   ]
  },
  {
   "cell_type": "markdown",
   "metadata": {},
   "source": [
    "### Example 5\n",
    "\n",
    "To access by index only in a DataFrame we can use the `iloc` or `loc` functions with the indices in square brackets. The `iloc` function refers to the index location, so we pass in the number of the index, while the `loc` function refers to the name of the index, so we pass in the index name. We can use slicing if we want more than one index, for example:\n",
    "\n",
    "* `dataframe.iloc[index i]` – returns series at index i\n",
    "* `dataframe.iloc[index start: index end]` – returns DataFrame from start to end (end not included)\n",
    "* `dataframe.loc['index name']` – returns series of given index name\n",
    "\n",
    "Let's look at a few examples:"
   ]
  },
  {
   "cell_type": "code",
   "execution_count": 8,
   "metadata": {},
   "outputs": [
    {
     "data": {
      "application/vnd.microsoft.datawrangler.viewer.v0+json": {
       "columns": [
        {
         "name": "index",
         "rawType": "object",
         "type": "string"
        },
        {
         "name": "M. Neuer",
         "rawType": "object",
         "type": "unknown"
        }
       ],
       "ref": "d1891e10-9d7c-44cd-a49d-13af7984c1bf",
       "rows": [
        [
         "Age",
         "31"
        ],
        [
         "Nationality",
         "Germany"
        ],
        [
         "Overall",
         "92"
        ],
        [
         "Acceleration",
         "58    "
        ],
        [
         "Aggression",
         "29    "
        ],
        [
         "Agility",
         "52    "
        ],
        [
         "Balance",
         "35    "
        ],
        [
         "Ball control",
         "48    "
        ],
        [
         "Composure",
         "70    "
        ],
        [
         "Crossing",
         "15    "
        ],
        [
         "Curve",
         "14    "
        ],
        [
         "Dribbling",
         "30    "
        ],
        [
         "Finishing",
         "13    "
        ],
        [
         "Free kick accuracy",
         "11    "
        ],
        [
         "GK diving",
         "91    "
        ],
        [
         "GK handling",
         "90    "
        ],
        [
         "GK kicking",
         "95    "
        ],
        [
         "GK positioning",
         "91    "
        ],
        [
         "GK reflexes",
         "89    "
        ],
        [
         "Heading accuracy",
         "25    "
        ],
        [
         "Interceptions",
         "30    "
        ],
        [
         "Jumping",
         "78    "
        ],
        [
         "Long passing",
         "59    "
        ],
        [
         "Long shots",
         "16    "
        ],
        [
         "Marking",
         "10    "
        ],
        [
         "Penalties",
         "47    "
        ],
        [
         "Positioning",
         "12    "
        ],
        [
         "Reactions",
         "85    "
        ],
        [
         "Short passing",
         "55    "
        ],
        [
         "Shot power",
         "25    "
        ],
        [
         "Sliding tackle",
         "11    "
        ],
        [
         "Sprint speed",
         "61    "
        ],
        [
         "Stamina",
         "44    "
        ],
        [
         "Standing tackle",
         "10    "
        ],
        [
         "Strength",
         "83    "
        ],
        [
         "Vision",
         "70    "
        ],
        [
         "Volleys",
         "11    "
        ],
        [
         "Preferred Positions",
         "GK "
        ]
       ],
       "shape": {
        "columns": 1,
        "rows": 38
       }
      },
      "text/plain": [
       "Age                         31\n",
       "Nationality            Germany\n",
       "Overall                     92\n",
       "Acceleration            58    \n",
       "Aggression              29    \n",
       "Agility                 52    \n",
       "Balance                 35    \n",
       "Ball control            48    \n",
       "Composure               70    \n",
       "Crossing                15    \n",
       "Curve                   14    \n",
       "Dribbling               30    \n",
       "Finishing               13    \n",
       "Free kick accuracy      11    \n",
       "GK diving               91    \n",
       "GK handling             90    \n",
       "GK kicking              95    \n",
       "GK positioning          91    \n",
       "GK reflexes             89    \n",
       "Heading accuracy        25    \n",
       "Interceptions           30    \n",
       "Jumping                 78    \n",
       "Long passing            59    \n",
       "Long shots              16    \n",
       "Marking                 10    \n",
       "Penalties               47    \n",
       "Positioning             12    \n",
       "Reactions               85    \n",
       "Short passing           55    \n",
       "Shot power              25    \n",
       "Sliding tackle          11    \n",
       "Sprint speed            61    \n",
       "Stamina                 44    \n",
       "Standing tackle         10    \n",
       "Strength                83    \n",
       "Vision                  70    \n",
       "Volleys                 11    \n",
       "Preferred Positions        GK \n",
       "Name: M. Neuer, dtype: object"
      ]
     },
     "execution_count": 8,
     "metadata": {},
     "output_type": "execute_result"
    }
   ],
   "source": [
    "# Select the 5th row using iloc[].\n",
    "df.iloc[4]"
   ]
  },
  {
   "cell_type": "code",
   "execution_count": 9,
   "metadata": {},
   "outputs": [
    {
     "data": {
      "application/vnd.microsoft.datawrangler.viewer.v0+json": {
       "columns": [
        {
         "name": "Name",
         "rawType": "object",
         "type": "string"
        },
        {
         "name": "Age",
         "rawType": "int64",
         "type": "integer"
        },
        {
         "name": "Nationality",
         "rawType": "object",
         "type": "string"
        },
        {
         "name": "Overall",
         "rawType": "int64",
         "type": "integer"
        },
        {
         "name": "Acceleration",
         "rawType": "object",
         "type": "string"
        },
        {
         "name": "Aggression",
         "rawType": "object",
         "type": "string"
        },
        {
         "name": "Agility",
         "rawType": "object",
         "type": "string"
        },
        {
         "name": "Balance",
         "rawType": "object",
         "type": "string"
        },
        {
         "name": "Ball control",
         "rawType": "object",
         "type": "string"
        },
        {
         "name": "Composure",
         "rawType": "object",
         "type": "string"
        },
        {
         "name": "Crossing",
         "rawType": "object",
         "type": "string"
        },
        {
         "name": "Curve",
         "rawType": "object",
         "type": "string"
        },
        {
         "name": "Dribbling",
         "rawType": "object",
         "type": "string"
        },
        {
         "name": "Finishing",
         "rawType": "object",
         "type": "string"
        },
        {
         "name": "Free kick accuracy",
         "rawType": "object",
         "type": "string"
        },
        {
         "name": "GK diving",
         "rawType": "object",
         "type": "string"
        },
        {
         "name": "GK handling",
         "rawType": "object",
         "type": "string"
        },
        {
         "name": "GK kicking",
         "rawType": "object",
         "type": "string"
        },
        {
         "name": "GK positioning",
         "rawType": "object",
         "type": "string"
        },
        {
         "name": "GK reflexes",
         "rawType": "object",
         "type": "string"
        },
        {
         "name": "Heading accuracy",
         "rawType": "object",
         "type": "string"
        },
        {
         "name": "Interceptions",
         "rawType": "object",
         "type": "string"
        },
        {
         "name": "Jumping",
         "rawType": "object",
         "type": "string"
        },
        {
         "name": "Long passing",
         "rawType": "object",
         "type": "string"
        },
        {
         "name": "Long shots",
         "rawType": "object",
         "type": "string"
        },
        {
         "name": "Marking",
         "rawType": "object",
         "type": "string"
        },
        {
         "name": "Penalties",
         "rawType": "object",
         "type": "string"
        },
        {
         "name": "Positioning",
         "rawType": "object",
         "type": "string"
        },
        {
         "name": "Reactions",
         "rawType": "object",
         "type": "string"
        },
        {
         "name": "Short passing",
         "rawType": "object",
         "type": "string"
        },
        {
         "name": "Shot power",
         "rawType": "object",
         "type": "string"
        },
        {
         "name": "Sliding tackle",
         "rawType": "object",
         "type": "string"
        },
        {
         "name": "Sprint speed",
         "rawType": "object",
         "type": "string"
        },
        {
         "name": "Stamina",
         "rawType": "object",
         "type": "string"
        },
        {
         "name": "Standing tackle",
         "rawType": "object",
         "type": "string"
        },
        {
         "name": "Strength",
         "rawType": "object",
         "type": "string"
        },
        {
         "name": "Vision",
         "rawType": "object",
         "type": "string"
        },
        {
         "name": "Volleys",
         "rawType": "object",
         "type": "string"
        },
        {
         "name": "Preferred Positions",
         "rawType": "object",
         "type": "string"
        }
       ],
       "ref": "0bda3d08-238e-4f7c-bdbe-add60a264647",
       "rows": [
        [
         "M. Neuer",
         "31",
         "Germany",
         "92",
         "58    ",
         "29    ",
         "52    ",
         "35    ",
         "48    ",
         "70    ",
         "15    ",
         "14    ",
         "30    ",
         "13    ",
         "11    ",
         "91    ",
         "90    ",
         "95    ",
         "91    ",
         "89    ",
         "25    ",
         "30    ",
         "78    ",
         "59    ",
         "16    ",
         "10    ",
         "47    ",
         "12    ",
         "85    ",
         "55    ",
         "25    ",
         "11    ",
         "61    ",
         "44    ",
         "10    ",
         "83    ",
         "70    ",
         "11    ",
         "GK "
        ],
        [
         "R. Lewandowski",
         "28",
         "Poland",
         "91",
         "79    ",
         "80    ",
         "78    ",
         "80    ",
         "89    ",
         "87    ",
         "62    ",
         "77    ",
         "85    ",
         "91    ",
         "84    ",
         "15    ",
         "6    ",
         "12    ",
         "8    ",
         "10    ",
         "85    ",
         "39    ",
         "84    ",
         "65    ",
         "83    ",
         "25    ",
         "81    ",
         "91    ",
         "91    ",
         "83    ",
         "88    ",
         "19    ",
         "83    ",
         "79    ",
         "42    ",
         "84    ",
         "78    ",
         "87    ",
         "ST "
        ],
        [
         "De Gea",
         "26",
         "Spain",
         "90",
         "57    ",
         "38    ",
         "60    ",
         "43    ",
         "42    ",
         "64    ",
         "17    ",
         "21    ",
         "18    ",
         "13    ",
         "19    ",
         "90    ",
         "85    ",
         "87    ",
         "86    ",
         "90    ",
         "21    ",
         "30    ",
         "67    ",
         "51    ",
         "12    ",
         "13    ",
         "40    ",
         "12    ",
         "88    ",
         "50    ",
         "31    ",
         "13    ",
         "58    ",
         "40    ",
         "21    ",
         "64    ",
         "68    ",
         "13    ",
         "GK "
        ],
        [
         "E. Hazard",
         "26",
         "Belgium",
         "90",
         "93    ",
         "54    ",
         "93    ",
         "91    ",
         "92    ",
         "87    ",
         "80    ",
         "82    ",
         "93    ",
         "83    ",
         "79    ",
         "11    ",
         "12    ",
         "6    ",
         "8    ",
         "8    ",
         "57    ",
         "41    ",
         "59    ",
         "81    ",
         "82    ",
         "25    ",
         "86    ",
         "85    ",
         "85    ",
         "86    ",
         "79    ",
         "22    ",
         "87    ",
         "79    ",
         "27    ",
         "65    ",
         "86    ",
         "79    ",
         "LW "
        ],
        [
         "T. Kroos",
         "27",
         "Germany",
         "90",
         "60    ",
         "60    ",
         "71    ",
         "69    ",
         "89    ",
         "85    ",
         "85    ",
         "85    ",
         "79    ",
         "76    ",
         "84    ",
         "10    ",
         "11    ",
         "13    ",
         "7    ",
         "10    ",
         "54    ",
         "85    ",
         "32    ",
         "93    ",
         "90    ",
         "63    ",
         "73    ",
         "79    ",
         "86    ",
         "90    ",
         "87    ",
         "69    ",
         "52    ",
         "77    ",
         "82    ",
         "74    ",
         "88    ",
         "82    ",
         "CDM CM "
        ],
        [
         "G. Higuaín",
         "29",
         "Argentina",
         "90",
         "78    ",
         "50    ",
         "75    ",
         "69    ",
         "85    ",
         "86    ",
         "68    ",
         "74    ",
         "84    ",
         "91    ",
         "62    ",
         "5    ",
         "12    ",
         "7    ",
         "5    ",
         "10    ",
         "86    ",
         "20    ",
         "79    ",
         "59    ",
         "82    ",
         "12    ",
         "70    ",
         "92    ",
         "88    ",
         "75    ",
         "88    ",
         "18    ",
         "80    ",
         "72    ",
         "22    ",
         "85    ",
         "70    ",
         "88    ",
         "ST "
        ]
       ],
       "shape": {
        "columns": 38,
        "rows": 6
       }
      },
      "text/html": [
       "<div>\n",
       "<style scoped>\n",
       "    .dataframe tbody tr th:only-of-type {\n",
       "        vertical-align: middle;\n",
       "    }\n",
       "\n",
       "    .dataframe tbody tr th {\n",
       "        vertical-align: top;\n",
       "    }\n",
       "\n",
       "    .dataframe thead th {\n",
       "        text-align: right;\n",
       "    }\n",
       "</style>\n",
       "<table border=\"1\" class=\"dataframe\">\n",
       "  <thead>\n",
       "    <tr style=\"text-align: right;\">\n",
       "      <th></th>\n",
       "      <th>Age</th>\n",
       "      <th>Nationality</th>\n",
       "      <th>Overall</th>\n",
       "      <th>Acceleration</th>\n",
       "      <th>Aggression</th>\n",
       "      <th>Agility</th>\n",
       "      <th>Balance</th>\n",
       "      <th>Ball control</th>\n",
       "      <th>Composure</th>\n",
       "      <th>Crossing</th>\n",
       "      <th>...</th>\n",
       "      <th>Short passing</th>\n",
       "      <th>Shot power</th>\n",
       "      <th>Sliding tackle</th>\n",
       "      <th>Sprint speed</th>\n",
       "      <th>Stamina</th>\n",
       "      <th>Standing tackle</th>\n",
       "      <th>Strength</th>\n",
       "      <th>Vision</th>\n",
       "      <th>Volleys</th>\n",
       "      <th>Preferred Positions</th>\n",
       "    </tr>\n",
       "    <tr>\n",
       "      <th>Name</th>\n",
       "      <th></th>\n",
       "      <th></th>\n",
       "      <th></th>\n",
       "      <th></th>\n",
       "      <th></th>\n",
       "      <th></th>\n",
       "      <th></th>\n",
       "      <th></th>\n",
       "      <th></th>\n",
       "      <th></th>\n",
       "      <th></th>\n",
       "      <th></th>\n",
       "      <th></th>\n",
       "      <th></th>\n",
       "      <th></th>\n",
       "      <th></th>\n",
       "      <th></th>\n",
       "      <th></th>\n",
       "      <th></th>\n",
       "      <th></th>\n",
       "      <th></th>\n",
       "    </tr>\n",
       "  </thead>\n",
       "  <tbody>\n",
       "    <tr>\n",
       "      <th>M. Neuer</th>\n",
       "      <td>31</td>\n",
       "      <td>Germany</td>\n",
       "      <td>92</td>\n",
       "      <td>58</td>\n",
       "      <td>29</td>\n",
       "      <td>52</td>\n",
       "      <td>35</td>\n",
       "      <td>48</td>\n",
       "      <td>70</td>\n",
       "      <td>15</td>\n",
       "      <td>...</td>\n",
       "      <td>55</td>\n",
       "      <td>25</td>\n",
       "      <td>11</td>\n",
       "      <td>61</td>\n",
       "      <td>44</td>\n",
       "      <td>10</td>\n",
       "      <td>83</td>\n",
       "      <td>70</td>\n",
       "      <td>11</td>\n",
       "      <td>GK</td>\n",
       "    </tr>\n",
       "    <tr>\n",
       "      <th>R. Lewandowski</th>\n",
       "      <td>28</td>\n",
       "      <td>Poland</td>\n",
       "      <td>91</td>\n",
       "      <td>79</td>\n",
       "      <td>80</td>\n",
       "      <td>78</td>\n",
       "      <td>80</td>\n",
       "      <td>89</td>\n",
       "      <td>87</td>\n",
       "      <td>62</td>\n",
       "      <td>...</td>\n",
       "      <td>83</td>\n",
       "      <td>88</td>\n",
       "      <td>19</td>\n",
       "      <td>83</td>\n",
       "      <td>79</td>\n",
       "      <td>42</td>\n",
       "      <td>84</td>\n",
       "      <td>78</td>\n",
       "      <td>87</td>\n",
       "      <td>ST</td>\n",
       "    </tr>\n",
       "    <tr>\n",
       "      <th>De Gea</th>\n",
       "      <td>26</td>\n",
       "      <td>Spain</td>\n",
       "      <td>90</td>\n",
       "      <td>57</td>\n",
       "      <td>38</td>\n",
       "      <td>60</td>\n",
       "      <td>43</td>\n",
       "      <td>42</td>\n",
       "      <td>64</td>\n",
       "      <td>17</td>\n",
       "      <td>...</td>\n",
       "      <td>50</td>\n",
       "      <td>31</td>\n",
       "      <td>13</td>\n",
       "      <td>58</td>\n",
       "      <td>40</td>\n",
       "      <td>21</td>\n",
       "      <td>64</td>\n",
       "      <td>68</td>\n",
       "      <td>13</td>\n",
       "      <td>GK</td>\n",
       "    </tr>\n",
       "    <tr>\n",
       "      <th>E. Hazard</th>\n",
       "      <td>26</td>\n",
       "      <td>Belgium</td>\n",
       "      <td>90</td>\n",
       "      <td>93</td>\n",
       "      <td>54</td>\n",
       "      <td>93</td>\n",
       "      <td>91</td>\n",
       "      <td>92</td>\n",
       "      <td>87</td>\n",
       "      <td>80</td>\n",
       "      <td>...</td>\n",
       "      <td>86</td>\n",
       "      <td>79</td>\n",
       "      <td>22</td>\n",
       "      <td>87</td>\n",
       "      <td>79</td>\n",
       "      <td>27</td>\n",
       "      <td>65</td>\n",
       "      <td>86</td>\n",
       "      <td>79</td>\n",
       "      <td>LW</td>\n",
       "    </tr>\n",
       "    <tr>\n",
       "      <th>T. Kroos</th>\n",
       "      <td>27</td>\n",
       "      <td>Germany</td>\n",
       "      <td>90</td>\n",
       "      <td>60</td>\n",
       "      <td>60</td>\n",
       "      <td>71</td>\n",
       "      <td>69</td>\n",
       "      <td>89</td>\n",
       "      <td>85</td>\n",
       "      <td>85</td>\n",
       "      <td>...</td>\n",
       "      <td>90</td>\n",
       "      <td>87</td>\n",
       "      <td>69</td>\n",
       "      <td>52</td>\n",
       "      <td>77</td>\n",
       "      <td>82</td>\n",
       "      <td>74</td>\n",
       "      <td>88</td>\n",
       "      <td>82</td>\n",
       "      <td>CDM CM</td>\n",
       "    </tr>\n",
       "    <tr>\n",
       "      <th>G. Higuaín</th>\n",
       "      <td>29</td>\n",
       "      <td>Argentina</td>\n",
       "      <td>90</td>\n",
       "      <td>78</td>\n",
       "      <td>50</td>\n",
       "      <td>75</td>\n",
       "      <td>69</td>\n",
       "      <td>85</td>\n",
       "      <td>86</td>\n",
       "      <td>68</td>\n",
       "      <td>...</td>\n",
       "      <td>75</td>\n",
       "      <td>88</td>\n",
       "      <td>18</td>\n",
       "      <td>80</td>\n",
       "      <td>72</td>\n",
       "      <td>22</td>\n",
       "      <td>85</td>\n",
       "      <td>70</td>\n",
       "      <td>88</td>\n",
       "      <td>ST</td>\n",
       "    </tr>\n",
       "  </tbody>\n",
       "</table>\n",
       "<p>6 rows × 38 columns</p>\n",
       "</div>"
      ],
      "text/plain": [
       "                Age Nationality  Overall Acceleration Aggression Agility  \\\n",
       "Name                                                                       \n",
       "M. Neuer         31     Germany       92       58         29      52       \n",
       "R. Lewandowski   28      Poland       91       79         80      78       \n",
       "De Gea           26       Spain       90       57         38      60       \n",
       "E. Hazard        26     Belgium       90       93         54      93       \n",
       "T. Kroos         27     Germany       90       60         60      71       \n",
       "G. Higuaín       29   Argentina       90       78         50      75       \n",
       "\n",
       "               Balance Ball control Composure Crossing  ... Short passing  \\\n",
       "Name                                                    ...                 \n",
       "M. Neuer        35           48        70       15      ...        55       \n",
       "R. Lewandowski  80           89        87       62      ...        83       \n",
       "De Gea          43           42        64       17      ...        50       \n",
       "E. Hazard       91           92        87       80      ...        86       \n",
       "T. Kroos        69           89        85       85      ...        90       \n",
       "G. Higuaín      69           85        86       68      ...        75       \n",
       "\n",
       "               Shot power Sliding tackle Sprint speed Stamina Standing tackle  \\\n",
       "Name                                                                            \n",
       "M. Neuer           25             11           61      44              10       \n",
       "R. Lewandowski     88             19           83      79              42       \n",
       "De Gea             31             13           58      40              21       \n",
       "E. Hazard          79             22           87      79              27       \n",
       "T. Kroos           87             69           52      77              82       \n",
       "G. Higuaín         88             18           80      72              22       \n",
       "\n",
       "               Strength  Vision Volleys Preferred Positions  \n",
       "Name                                                         \n",
       "M. Neuer         83      70      11                     GK   \n",
       "R. Lewandowski   84      78      87                     ST   \n",
       "De Gea           64      68      13                     GK   \n",
       "E. Hazard        65      86      79                     LW   \n",
       "T. Kroos         74      88      82                 CDM CM   \n",
       "G. Higuaín       85      70      88                     ST   \n",
       "\n",
       "[6 rows x 38 columns]"
      ]
     },
     "execution_count": 9,
     "metadata": {},
     "output_type": "execute_result"
    }
   ],
   "source": [
    "# Select rows 5 to 10.\n",
    "df.iloc[4:10]"
   ]
  },
  {
   "cell_type": "code",
   "execution_count": 10,
   "metadata": {},
   "outputs": [
    {
     "data": {
      "application/vnd.microsoft.datawrangler.viewer.v0+json": {
       "columns": [
        {
         "name": "index",
         "rawType": "object",
         "type": "string"
        },
        {
         "name": "M. Neuer",
         "rawType": "object",
         "type": "unknown"
        }
       ],
       "ref": "07ab3f91-cbbc-48c8-8784-561c5ff9dd1e",
       "rows": [
        [
         "Age",
         "31"
        ],
        [
         "Nationality",
         "Germany"
        ],
        [
         "Overall",
         "92"
        ],
        [
         "Acceleration",
         "58    "
        ],
        [
         "Aggression",
         "29    "
        ],
        [
         "Agility",
         "52    "
        ],
        [
         "Balance",
         "35    "
        ],
        [
         "Ball control",
         "48    "
        ],
        [
         "Composure",
         "70    "
        ],
        [
         "Crossing",
         "15    "
        ],
        [
         "Curve",
         "14    "
        ],
        [
         "Dribbling",
         "30    "
        ],
        [
         "Finishing",
         "13    "
        ],
        [
         "Free kick accuracy",
         "11    "
        ],
        [
         "GK diving",
         "91    "
        ],
        [
         "GK handling",
         "90    "
        ],
        [
         "GK kicking",
         "95    "
        ],
        [
         "GK positioning",
         "91    "
        ],
        [
         "GK reflexes",
         "89    "
        ],
        [
         "Heading accuracy",
         "25    "
        ],
        [
         "Interceptions",
         "30    "
        ],
        [
         "Jumping",
         "78    "
        ],
        [
         "Long passing",
         "59    "
        ],
        [
         "Long shots",
         "16    "
        ],
        [
         "Marking",
         "10    "
        ],
        [
         "Penalties",
         "47    "
        ],
        [
         "Positioning",
         "12    "
        ],
        [
         "Reactions",
         "85    "
        ],
        [
         "Short passing",
         "55    "
        ],
        [
         "Shot power",
         "25    "
        ],
        [
         "Sliding tackle",
         "11    "
        ],
        [
         "Sprint speed",
         "61    "
        ],
        [
         "Stamina",
         "44    "
        ],
        [
         "Standing tackle",
         "10    "
        ],
        [
         "Strength",
         "83    "
        ],
        [
         "Vision",
         "70    "
        ],
        [
         "Volleys",
         "11    "
        ],
        [
         "Preferred Positions",
         "GK "
        ]
       ],
       "shape": {
        "columns": 1,
        "rows": 38
       }
      },
      "text/plain": [
       "Age                         31\n",
       "Nationality            Germany\n",
       "Overall                     92\n",
       "Acceleration            58    \n",
       "Aggression              29    \n",
       "Agility                 52    \n",
       "Balance                 35    \n",
       "Ball control            48    \n",
       "Composure               70    \n",
       "Crossing                15    \n",
       "Curve                   14    \n",
       "Dribbling               30    \n",
       "Finishing               13    \n",
       "Free kick accuracy      11    \n",
       "GK diving               91    \n",
       "GK handling             90    \n",
       "GK kicking              95    \n",
       "GK positioning          91    \n",
       "GK reflexes             89    \n",
       "Heading accuracy        25    \n",
       "Interceptions           30    \n",
       "Jumping                 78    \n",
       "Long passing            59    \n",
       "Long shots              16    \n",
       "Marking                 10    \n",
       "Penalties               47    \n",
       "Positioning             12    \n",
       "Reactions               85    \n",
       "Short passing           55    \n",
       "Shot power              25    \n",
       "Sliding tackle          11    \n",
       "Sprint speed            61    \n",
       "Stamina                 44    \n",
       "Standing tackle         10    \n",
       "Strength                83    \n",
       "Vision                  70    \n",
       "Volleys                 11    \n",
       "Preferred Positions        GK \n",
       "Name: M. Neuer, dtype: object"
      ]
     },
     "execution_count": 10,
     "metadata": {},
     "output_type": "execute_result"
    }
   ],
   "source": [
    "# Select the M. Neuer index using loc[].\n",
    "df.loc['M. Neuer']"
   ]
  },
  {
   "cell_type": "markdown",
   "metadata": {},
   "source": [
    "### Example 6\n",
    "To access by column only we can simply call `dataframe['Column Name']`. If we want more than one column we input a list of column names inside the square brackets:\n",
    "\n",
    "* `dataframe['Column Name']` – returns series of given column\n",
    "* `dataframe[['Column 1', 'Column 2']]` – returns DataFrame with the given columns\n",
    "\n",
    "Let's look at examples."
   ]
  },
  {
   "cell_type": "code",
   "execution_count": 11,
   "metadata": {},
   "outputs": [
    {
     "data": {
      "application/vnd.microsoft.datawrangler.viewer.v0+json": {
       "columns": [
        {
         "name": "Name",
         "rawType": "object",
         "type": "string"
        },
        {
         "name": "Age",
         "rawType": "int64",
         "type": "integer"
        }
       ],
       "ref": "df4a8a5a-cb11-49da-8447-b276e80eb1d7",
       "rows": [
        [
         "Cristiano Ronaldo",
         "32"
        ],
        [
         "L. Messi",
         "30"
        ],
        [
         "Neymar",
         "25"
        ],
        [
         "L. Suárez",
         "30"
        ],
        [
         "M. Neuer",
         "31"
        ],
        [
         "R. Lewandowski",
         "28"
        ],
        [
         "De Gea",
         "26"
        ],
        [
         "E. Hazard",
         "26"
        ],
        [
         "T. Kroos",
         "27"
        ],
        [
         "G. Higuaín",
         "29"
        ],
        [
         "Sergio Ramos",
         "31"
        ],
        [
         "K. De Bruyne",
         "26"
        ],
        [
         "T. Courtois",
         "25"
        ],
        [
         "A. Sánchez",
         "28"
        ],
        [
         "L. Modrić",
         "31"
        ],
        [
         "G. Bale",
         "27"
        ],
        [
         "S. Agüero",
         "29"
        ],
        [
         "G. Chiellini",
         "32"
        ],
        [
         "G. Buffon",
         "39"
        ],
        [
         "P. Dybala",
         "23"
        ],
        [
         "J. Oblak",
         "24"
        ],
        [
         "A. Griezmann",
         "26"
        ],
        [
         "Thiago",
         "26"
        ],
        [
         "P. Aubameyang",
         "28"
        ],
        [
         "L. Bonucci",
         "30"
        ],
        [
         "J. Boateng",
         "28"
        ],
        [
         "D. Godín",
         "31"
        ],
        [
         "M. Hummels",
         "28"
        ],
        [
         "M. Özil",
         "28"
        ],
        [
         "H. Lloris",
         "30"
        ],
        [
         "Thiago Silva",
         "32"
        ],
        [
         "Z. Ibrahimović",
         "35"
        ],
        [
         "A. Robben",
         "33"
        ],
        [
         "N. Kanté",
         "26"
        ],
        [
         "M. Verratti",
         "24"
        ],
        [
         "P. Pogba",
         "24"
        ],
        [
         "C. Eriksen",
         "25"
        ],
        [
         "A. Vidal",
         "30"
        ],
        [
         "E. Cavani",
         "30"
        ],
        [
         "Marcelo",
         "29"
        ],
        [
         "M. Hamšík",
         "29"
        ],
        [
         "I. Rakitić",
         "29"
        ],
        [
         "David Silva",
         "31"
        ],
        [
         "S. Handanovič",
         "32"
        ],
        [
         "Piqué",
         "30"
        ],
        [
         "Iniesta",
         "33"
        ],
        [
         "H. Kane",
         "23"
        ],
        [
         "J. Rodríguez",
         "25"
        ],
        [
         "Isco",
         "25"
        ],
        [
         "D. Alaba",
         "25"
        ]
       ],
       "shape": {
        "columns": 1,
        "rows": 17981
       }
      },
      "text/plain": [
       "Name\n",
       "Cristiano Ronaldo    32\n",
       "L. Messi             30\n",
       "Neymar               25\n",
       "L. Suárez            30\n",
       "M. Neuer             31\n",
       "                     ..\n",
       "A. Kelsey            17\n",
       "B. Richardson        47\n",
       "J. Young             17\n",
       "J. Lundstram         18\n",
       "L. Sackey            18\n",
       "Name: Age, Length: 17981, dtype: int64"
      ]
     },
     "execution_count": 11,
     "metadata": {},
     "output_type": "execute_result"
    }
   ],
   "source": [
    "# Select the column 'Age'.\n",
    "df['Age']"
   ]
  },
  {
   "cell_type": "code",
   "execution_count": 12,
   "metadata": {},
   "outputs": [
    {
     "data": {
      "application/vnd.microsoft.datawrangler.viewer.v0+json": {
       "columns": [
        {
         "name": "Name",
         "rawType": "object",
         "type": "string"
        },
        {
         "name": "Age",
         "rawType": "int64",
         "type": "integer"
        },
        {
         "name": "Nationality",
         "rawType": "object",
         "type": "string"
        }
       ],
       "ref": "9a11425b-f8ba-4b14-8fa3-6c19a11c56ec",
       "rows": [
        [
         "Cristiano Ronaldo",
         "32",
         "Portugal"
        ],
        [
         "L. Messi",
         "30",
         "Argentina"
        ],
        [
         "Neymar",
         "25",
         "Brazil"
        ],
        [
         "L. Suárez",
         "30",
         "Uruguay"
        ],
        [
         "M. Neuer",
         "31",
         "Germany"
        ],
        [
         "R. Lewandowski",
         "28",
         "Poland"
        ],
        [
         "De Gea",
         "26",
         "Spain"
        ],
        [
         "E. Hazard",
         "26",
         "Belgium"
        ],
        [
         "T. Kroos",
         "27",
         "Germany"
        ],
        [
         "G. Higuaín",
         "29",
         "Argentina"
        ],
        [
         "Sergio Ramos",
         "31",
         "Spain"
        ],
        [
         "K. De Bruyne",
         "26",
         "Belgium"
        ],
        [
         "T. Courtois",
         "25",
         "Belgium"
        ],
        [
         "A. Sánchez",
         "28",
         "Chile"
        ],
        [
         "L. Modrić",
         "31",
         "Croatia"
        ],
        [
         "G. Bale",
         "27",
         "Wales"
        ],
        [
         "S. Agüero",
         "29",
         "Argentina"
        ],
        [
         "G. Chiellini",
         "32",
         "Italy"
        ],
        [
         "G. Buffon",
         "39",
         "Italy"
        ],
        [
         "P. Dybala",
         "23",
         "Argentina"
        ],
        [
         "J. Oblak",
         "24",
         "Slovenia"
        ],
        [
         "A. Griezmann",
         "26",
         "France"
        ],
        [
         "Thiago",
         "26",
         "Spain"
        ],
        [
         "P. Aubameyang",
         "28",
         "Gabon"
        ],
        [
         "L. Bonucci",
         "30",
         "Italy"
        ],
        [
         "J. Boateng",
         "28",
         "Germany"
        ],
        [
         "D. Godín",
         "31",
         "Uruguay"
        ],
        [
         "M. Hummels",
         "28",
         "Germany"
        ],
        [
         "M. Özil",
         "28",
         "Germany"
        ],
        [
         "H. Lloris",
         "30",
         "France"
        ],
        [
         "Thiago Silva",
         "32",
         "Brazil"
        ],
        [
         "Z. Ibrahimović",
         "35",
         "Sweden"
        ],
        [
         "A. Robben",
         "33",
         "Netherlands"
        ],
        [
         "N. Kanté",
         "26",
         "France"
        ],
        [
         "M. Verratti",
         "24",
         "Italy"
        ],
        [
         "P. Pogba",
         "24",
         "France"
        ],
        [
         "C. Eriksen",
         "25",
         "Denmark"
        ],
        [
         "A. Vidal",
         "30",
         "Chile"
        ],
        [
         "E. Cavani",
         "30",
         "Uruguay"
        ],
        [
         "Marcelo",
         "29",
         "Brazil"
        ],
        [
         "M. Hamšík",
         "29",
         "Slovakia"
        ],
        [
         "I. Rakitić",
         "29",
         "Croatia"
        ],
        [
         "David Silva",
         "31",
         "Spain"
        ],
        [
         "S. Handanovič",
         "32",
         "Slovenia"
        ],
        [
         "Piqué",
         "30",
         "Spain"
        ],
        [
         "Iniesta",
         "33",
         "Spain"
        ],
        [
         "H. Kane",
         "23",
         "England"
        ],
        [
         "J. Rodríguez",
         "25",
         "Colombia"
        ],
        [
         "Isco",
         "25",
         "Spain"
        ],
        [
         "D. Alaba",
         "25",
         "Austria"
        ]
       ],
       "shape": {
        "columns": 2,
        "rows": 17981
       }
      },
      "text/html": [
       "<div>\n",
       "<style scoped>\n",
       "    .dataframe tbody tr th:only-of-type {\n",
       "        vertical-align: middle;\n",
       "    }\n",
       "\n",
       "    .dataframe tbody tr th {\n",
       "        vertical-align: top;\n",
       "    }\n",
       "\n",
       "    .dataframe thead th {\n",
       "        text-align: right;\n",
       "    }\n",
       "</style>\n",
       "<table border=\"1\" class=\"dataframe\">\n",
       "  <thead>\n",
       "    <tr style=\"text-align: right;\">\n",
       "      <th></th>\n",
       "      <th>Age</th>\n",
       "      <th>Nationality</th>\n",
       "    </tr>\n",
       "    <tr>\n",
       "      <th>Name</th>\n",
       "      <th></th>\n",
       "      <th></th>\n",
       "    </tr>\n",
       "  </thead>\n",
       "  <tbody>\n",
       "    <tr>\n",
       "      <th>Cristiano Ronaldo</th>\n",
       "      <td>32</td>\n",
       "      <td>Portugal</td>\n",
       "    </tr>\n",
       "    <tr>\n",
       "      <th>L. Messi</th>\n",
       "      <td>30</td>\n",
       "      <td>Argentina</td>\n",
       "    </tr>\n",
       "    <tr>\n",
       "      <th>Neymar</th>\n",
       "      <td>25</td>\n",
       "      <td>Brazil</td>\n",
       "    </tr>\n",
       "    <tr>\n",
       "      <th>L. Suárez</th>\n",
       "      <td>30</td>\n",
       "      <td>Uruguay</td>\n",
       "    </tr>\n",
       "    <tr>\n",
       "      <th>M. Neuer</th>\n",
       "      <td>31</td>\n",
       "      <td>Germany</td>\n",
       "    </tr>\n",
       "    <tr>\n",
       "      <th>...</th>\n",
       "      <td>...</td>\n",
       "      <td>...</td>\n",
       "    </tr>\n",
       "    <tr>\n",
       "      <th>A. Kelsey</th>\n",
       "      <td>17</td>\n",
       "      <td>England</td>\n",
       "    </tr>\n",
       "    <tr>\n",
       "      <th>B. Richardson</th>\n",
       "      <td>47</td>\n",
       "      <td>England</td>\n",
       "    </tr>\n",
       "    <tr>\n",
       "      <th>J. Young</th>\n",
       "      <td>17</td>\n",
       "      <td>Scotland</td>\n",
       "    </tr>\n",
       "    <tr>\n",
       "      <th>J. Lundstram</th>\n",
       "      <td>18</td>\n",
       "      <td>England</td>\n",
       "    </tr>\n",
       "    <tr>\n",
       "      <th>L. Sackey</th>\n",
       "      <td>18</td>\n",
       "      <td>Ghana</td>\n",
       "    </tr>\n",
       "  </tbody>\n",
       "</table>\n",
       "<p>17981 rows × 2 columns</p>\n",
       "</div>"
      ],
      "text/plain": [
       "                   Age Nationality\n",
       "Name                              \n",
       "Cristiano Ronaldo   32    Portugal\n",
       "L. Messi            30   Argentina\n",
       "Neymar              25      Brazil\n",
       "L. Suárez           30     Uruguay\n",
       "M. Neuer            31     Germany\n",
       "...                ...         ...\n",
       "A. Kelsey           17     England\n",
       "B. Richardson       47     England\n",
       "J. Young            17    Scotland\n",
       "J. Lundstram        18     England\n",
       "L. Sackey           18       Ghana\n",
       "\n",
       "[17981 rows x 2 columns]"
      ]
     },
     "execution_count": 12,
     "metadata": {},
     "output_type": "execute_result"
    }
   ],
   "source": [
    "# Select the columns 'Age' and 'Nationality'.\n",
    "df[['Age', 'Nationality']]"
   ]
  },
  {
   "cell_type": "markdown",
   "metadata": {},
   "source": [
    "### Example 7\n",
    "We can also select a subset of the DataFrame using indices and columns in combination. Let's look at a few examples:"
   ]
  },
  {
   "cell_type": "code",
   "execution_count": 13,
   "metadata": {},
   "outputs": [
    {
     "data": {
      "application/vnd.microsoft.datawrangler.viewer.v0+json": {
       "columns": [
        {
         "name": "Name",
         "rawType": "object",
         "type": "string"
        },
        {
         "name": "Age",
         "rawType": "int64",
         "type": "integer"
        },
        {
         "name": "Nationality",
         "rawType": "object",
         "type": "string"
        }
       ],
       "ref": "5227b3b6-9bbd-493b-ab59-aa783d1b184e",
       "rows": [
        [
         "Cristiano Ronaldo",
         "32",
         "Portugal"
        ],
        [
         "L. Messi",
         "30",
         "Argentina"
        ],
        [
         "Neymar",
         "25",
         "Brazil"
        ],
        [
         "L. Suárez",
         "30",
         "Uruguay"
        ],
        [
         "M. Neuer",
         "31",
         "Germany"
        ]
       ],
       "shape": {
        "columns": 2,
        "rows": 5
       }
      },
      "text/html": [
       "<div>\n",
       "<style scoped>\n",
       "    .dataframe tbody tr th:only-of-type {\n",
       "        vertical-align: middle;\n",
       "    }\n",
       "\n",
       "    .dataframe tbody tr th {\n",
       "        vertical-align: top;\n",
       "    }\n",
       "\n",
       "    .dataframe thead th {\n",
       "        text-align: right;\n",
       "    }\n",
       "</style>\n",
       "<table border=\"1\" class=\"dataframe\">\n",
       "  <thead>\n",
       "    <tr style=\"text-align: right;\">\n",
       "      <th></th>\n",
       "      <th>Age</th>\n",
       "      <th>Nationality</th>\n",
       "    </tr>\n",
       "    <tr>\n",
       "      <th>Name</th>\n",
       "      <th></th>\n",
       "      <th></th>\n",
       "    </tr>\n",
       "  </thead>\n",
       "  <tbody>\n",
       "    <tr>\n",
       "      <th>Cristiano Ronaldo</th>\n",
       "      <td>32</td>\n",
       "      <td>Portugal</td>\n",
       "    </tr>\n",
       "    <tr>\n",
       "      <th>L. Messi</th>\n",
       "      <td>30</td>\n",
       "      <td>Argentina</td>\n",
       "    </tr>\n",
       "    <tr>\n",
       "      <th>Neymar</th>\n",
       "      <td>25</td>\n",
       "      <td>Brazil</td>\n",
       "    </tr>\n",
       "    <tr>\n",
       "      <th>L. Suárez</th>\n",
       "      <td>30</td>\n",
       "      <td>Uruguay</td>\n",
       "    </tr>\n",
       "    <tr>\n",
       "      <th>M. Neuer</th>\n",
       "      <td>31</td>\n",
       "      <td>Germany</td>\n",
       "    </tr>\n",
       "  </tbody>\n",
       "</table>\n",
       "</div>"
      ],
      "text/plain": [
       "                   Age Nationality\n",
       "Name                              \n",
       "Cristiano Ronaldo   32    Portugal\n",
       "L. Messi            30   Argentina\n",
       "Neymar              25      Brazil\n",
       "L. Suárez           30     Uruguay\n",
       "M. Neuer            31     Germany"
      ]
     },
     "execution_count": 13,
     "metadata": {},
     "output_type": "execute_result"
    }
   ],
   "source": [
    "# Select the first 5 rows and first 2 columns – Rows first.\n",
    "df.iloc[0:5][['Age', 'Nationality']]"
   ]
  },
  {
   "cell_type": "code",
   "execution_count": 14,
   "metadata": {},
   "outputs": [
    {
     "data": {
      "application/vnd.microsoft.datawrangler.viewer.v0+json": {
       "columns": [
        {
         "name": "Name",
         "rawType": "object",
         "type": "string"
        },
        {
         "name": "Age",
         "rawType": "int64",
         "type": "integer"
        },
        {
         "name": "Nationality",
         "rawType": "object",
         "type": "string"
        }
       ],
       "ref": "626f9c08-ac79-4088-a167-31cf034291cb",
       "rows": [
        [
         "Cristiano Ronaldo",
         "32",
         "Portugal"
        ],
        [
         "L. Messi",
         "30",
         "Argentina"
        ],
        [
         "Neymar",
         "25",
         "Brazil"
        ],
        [
         "L. Suárez",
         "30",
         "Uruguay"
        ],
        [
         "M. Neuer",
         "31",
         "Germany"
        ]
       ],
       "shape": {
        "columns": 2,
        "rows": 5
       }
      },
      "text/html": [
       "<div>\n",
       "<style scoped>\n",
       "    .dataframe tbody tr th:only-of-type {\n",
       "        vertical-align: middle;\n",
       "    }\n",
       "\n",
       "    .dataframe tbody tr th {\n",
       "        vertical-align: top;\n",
       "    }\n",
       "\n",
       "    .dataframe thead th {\n",
       "        text-align: right;\n",
       "    }\n",
       "</style>\n",
       "<table border=\"1\" class=\"dataframe\">\n",
       "  <thead>\n",
       "    <tr style=\"text-align: right;\">\n",
       "      <th></th>\n",
       "      <th>Age</th>\n",
       "      <th>Nationality</th>\n",
       "    </tr>\n",
       "    <tr>\n",
       "      <th>Name</th>\n",
       "      <th></th>\n",
       "      <th></th>\n",
       "    </tr>\n",
       "  </thead>\n",
       "  <tbody>\n",
       "    <tr>\n",
       "      <th>Cristiano Ronaldo</th>\n",
       "      <td>32</td>\n",
       "      <td>Portugal</td>\n",
       "    </tr>\n",
       "    <tr>\n",
       "      <th>L. Messi</th>\n",
       "      <td>30</td>\n",
       "      <td>Argentina</td>\n",
       "    </tr>\n",
       "    <tr>\n",
       "      <th>Neymar</th>\n",
       "      <td>25</td>\n",
       "      <td>Brazil</td>\n",
       "    </tr>\n",
       "    <tr>\n",
       "      <th>L. Suárez</th>\n",
       "      <td>30</td>\n",
       "      <td>Uruguay</td>\n",
       "    </tr>\n",
       "    <tr>\n",
       "      <th>M. Neuer</th>\n",
       "      <td>31</td>\n",
       "      <td>Germany</td>\n",
       "    </tr>\n",
       "  </tbody>\n",
       "</table>\n",
       "</div>"
      ],
      "text/plain": [
       "                   Age Nationality\n",
       "Name                              \n",
       "Cristiano Ronaldo   32    Portugal\n",
       "L. Messi            30   Argentina\n",
       "Neymar              25      Brazil\n",
       "L. Suárez           30     Uruguay\n",
       "M. Neuer            31     Germany"
      ]
     },
     "execution_count": 14,
     "metadata": {},
     "output_type": "execute_result"
    }
   ],
   "source": [
    "# Select the first 5 rows and first 2 columns – Columns first.\n",
    "df[['Age', 'Nationality']].iloc[0:5]"
   ]
  },
  {
   "cell_type": "markdown",
   "metadata": {},
   "source": [
    "### When to use DataFrames\n",
    "Unlike the NumPy array which is suited for storing and performing computations on homogeneous data (data of the same type), Pandas DataFrames can accommodate heterogeneous data. This makes them the choice data structure for manipulating often messy data (for example, tabular data from spreadsheets, or SQL tables). \n",
    "\n",
    "We should use a Pandas DataFrame if all of the following statements hold:\n",
    "\n",
    "* We have 2-dimensional data (rows and columns).\n",
    "* The data type is the same within a column.\n",
    "* We are interested in the index (rows) and column names.\n",
    "\n",
    "Pandas DataFrames are especially beneficial for data manipulation tasks like merging, joining, and reshaping data."
   ]
  },
  {
   "cell_type": "markdown",
   "metadata": {},
   "source": [
    "## Additional resources\n",
    "- [Pandas package home page](https://pandas.pydata.org/)"
   ]
  },
  {
   "cell_type": "markdown",
   "metadata": {},
   "source": [
    "#  \n",
    "\n",
    "<div align=\"center\" style=\" font-size: 80%; text-align: center; margin: 0 auto\">\n",
    "<img src=\"https://raw.githubusercontent.com/Explore-AI/Pictures/refs/heads/master/ALX_banners/ALX_Navy.png\"  style=\"width:140px\";/>\n",
    "</div>"
   ]
  }
 ],
 "metadata": {
  "kernelspec": {
   "display_name": "SQL_root",
   "language": "python",
   "name": "python3"
  },
  "language_info": {
   "codemirror_mode": {
    "name": "ipython",
    "version": 3
   },
   "file_extension": ".py",
   "mimetype": "text/x-python",
   "name": "python",
   "nbconvert_exporter": "python",
   "pygments_lexer": "ipython3",
   "version": "3.12.9"
  }
 },
 "nbformat": 4,
 "nbformat_minor": 4
}
